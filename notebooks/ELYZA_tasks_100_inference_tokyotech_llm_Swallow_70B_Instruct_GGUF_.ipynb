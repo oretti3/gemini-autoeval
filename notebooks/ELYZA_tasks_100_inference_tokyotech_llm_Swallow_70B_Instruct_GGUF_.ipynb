{
  "cells": [
    {
      "cell_type": "markdown",
      "metadata": {
        "id": "G1_Ut1cHTE3O"
      },
      "source": [
        "# ELYZA-tasks-100 による性能評価"
      ]
    },
    {
      "cell_type": "code",
      "execution_count": null,
      "metadata": {
        "colab": {
          "base_uri": "https://localhost:8080/"
        },
        "id": "8Epc4ScZ1Al9",
        "outputId": "84650091-bb9f-4a0e-b172-bb6a48971458"
      },
      "outputs": [
        {
          "name": "stdout",
          "output_type": "stream",
          "text": [
            "Collecting accelerate\n",
            "  Downloading accelerate-0.25.0-py3-none-any.whl (265 kB)\n",
            "\u001b[2K     \u001b[90m━━━━━━━━━━━━━━━━━━━━━━━━━━━━━━━━━━━━━━━━\u001b[0m \u001b[32m265.7/265.7 kB\u001b[0m \u001b[31m4.1 MB/s\u001b[0m eta \u001b[36m0:00:00\u001b[0m\n",
            "\u001b[?25hCollecting datasets\n",
            "  Downloading datasets-2.15.0-py3-none-any.whl (521 kB)\n",
            "\u001b[2K     \u001b[90m━━━━━━━━━━━━━━━━━━━━━━━━━━━━━━━━━━━━━━━━\u001b[0m \u001b[32m521.2/521.2 kB\u001b[0m \u001b[31m31.8 MB/s\u001b[0m eta \u001b[36m0:00:00\u001b[0m\n",
            "\u001b[?25hCollecting jsonlines\n",
            "  Downloading jsonlines-4.0.0-py3-none-any.whl (8.7 kB)\n",
            "Collecting sentencepiece\n",
            "  Downloading sentencepiece-0.1.99-cp310-cp310-manylinux_2_17_x86_64.manylinux2014_x86_64.whl (1.3 MB)\n",
            "\u001b[2K     \u001b[90m━━━━━━━━━━━━━━━━━━━━━━━━━━━━━━━━━━━━━━━━\u001b[0m \u001b[32m1.3/1.3 MB\u001b[0m \u001b[31m55.2 MB/s\u001b[0m eta \u001b[36m0:00:00\u001b[0m\n",
            "\u001b[?25hRequirement already satisfied: numpy>=1.17 in /usr/local/lib/python3.10/dist-packages (from accelerate) (1.23.5)\n",
            "Requirement already satisfied: packaging>=20.0 in /usr/local/lib/python3.10/dist-packages (from accelerate) (23.2)\n",
            "Requirement already satisfied: psutil in /usr/local/lib/python3.10/dist-packages (from accelerate) (5.9.5)\n",
            "Requirement already satisfied: pyyaml in /usr/local/lib/python3.10/dist-packages (from accelerate) (6.0.1)\n",
            "Requirement already satisfied: torch>=1.10.0 in /usr/local/lib/python3.10/dist-packages (from accelerate) (2.1.0+cu121)\n",
            "Requirement already satisfied: huggingface-hub in /usr/local/lib/python3.10/dist-packages (from accelerate) (0.19.4)\n",
            "Requirement already satisfied: safetensors>=0.3.1 in /usr/local/lib/python3.10/dist-packages (from accelerate) (0.4.1)\n",
            "Requirement already satisfied: pyarrow>=8.0.0 in /usr/local/lib/python3.10/dist-packages (from datasets) (10.0.1)\n",
            "Collecting pyarrow-hotfix (from datasets)\n",
            "  Downloading pyarrow_hotfix-0.6-py3-none-any.whl (7.9 kB)\n",
            "Collecting dill<0.3.8,>=0.3.0 (from datasets)\n",
            "  Downloading dill-0.3.7-py3-none-any.whl (115 kB)\n",
            "\u001b[2K     \u001b[90m━━━━━━━━━━━━━━━━━━━━━━━━━━━━━━━━━━━━━━━━\u001b[0m \u001b[32m115.3/115.3 kB\u001b[0m \u001b[31m16.5 MB/s\u001b[0m eta \u001b[36m0:00:00\u001b[0m\n",
            "\u001b[?25hRequirement already satisfied: pandas in /usr/local/lib/python3.10/dist-packages (from datasets) (1.5.3)\n",
            "Requirement already satisfied: requests>=2.19.0 in /usr/local/lib/python3.10/dist-packages (from datasets) (2.31.0)\n",
            "Requirement already satisfied: tqdm>=4.62.1 in /usr/local/lib/python3.10/dist-packages (from datasets) (4.66.1)\n",
            "Requirement already satisfied: xxhash in /usr/local/lib/python3.10/dist-packages (from datasets) (3.4.1)\n",
            "Collecting multiprocess (from datasets)\n",
            "  Downloading multiprocess-0.70.15-py310-none-any.whl (134 kB)\n",
            "\u001b[2K     \u001b[90m━━━━━━━━━━━━━━━━━━━━━━━━━━━━━━━━━━━━━━━━\u001b[0m \u001b[32m134.8/134.8 kB\u001b[0m \u001b[31m16.4 MB/s\u001b[0m eta \u001b[36m0:00:00\u001b[0m\n",
            "\u001b[?25hRequirement already satisfied: fsspec[http]<=2023.10.0,>=2023.1.0 in /usr/local/lib/python3.10/dist-packages (from datasets) (2023.6.0)\n",
            "Requirement already satisfied: aiohttp in /usr/local/lib/python3.10/dist-packages (from datasets) (3.9.1)\n",
            "Requirement already satisfied: attrs>=19.2.0 in /usr/local/lib/python3.10/dist-packages (from jsonlines) (23.1.0)\n",
            "Requirement already satisfied: multidict<7.0,>=4.5 in /usr/local/lib/python3.10/dist-packages (from aiohttp->datasets) (6.0.4)\n",
            "Requirement already satisfied: yarl<2.0,>=1.0 in /usr/local/lib/python3.10/dist-packages (from aiohttp->datasets) (1.9.4)\n",
            "Requirement already satisfied: frozenlist>=1.1.1 in /usr/local/lib/python3.10/dist-packages (from aiohttp->datasets) (1.4.0)\n",
            "Requirement already satisfied: aiosignal>=1.1.2 in /usr/local/lib/python3.10/dist-packages (from aiohttp->datasets) (1.3.1)\n",
            "Requirement already satisfied: async-timeout<5.0,>=4.0 in /usr/local/lib/python3.10/dist-packages (from aiohttp->datasets) (4.0.3)\n",
            "Requirement already satisfied: filelock in /usr/local/lib/python3.10/dist-packages (from huggingface-hub->accelerate) (3.13.1)\n",
            "Requirement already satisfied: typing-extensions>=3.7.4.3 in /usr/local/lib/python3.10/dist-packages (from huggingface-hub->accelerate) (4.5.0)\n",
            "Requirement already satisfied: charset-normalizer<4,>=2 in /usr/local/lib/python3.10/dist-packages (from requests>=2.19.0->datasets) (3.3.2)\n",
            "Requirement already satisfied: idna<4,>=2.5 in /usr/local/lib/python3.10/dist-packages (from requests>=2.19.0->datasets) (3.6)\n",
            "Requirement already satisfied: urllib3<3,>=1.21.1 in /usr/local/lib/python3.10/dist-packages (from requests>=2.19.0->datasets) (2.0.7)\n",
            "Requirement already satisfied: certifi>=2017.4.17 in /usr/local/lib/python3.10/dist-packages (from requests>=2.19.0->datasets) (2023.11.17)\n",
            "Requirement already satisfied: sympy in /usr/local/lib/python3.10/dist-packages (from torch>=1.10.0->accelerate) (1.12)\n",
            "Requirement already satisfied: networkx in /usr/local/lib/python3.10/dist-packages (from torch>=1.10.0->accelerate) (3.2.1)\n",
            "Requirement already satisfied: jinja2 in /usr/local/lib/python3.10/dist-packages (from torch>=1.10.0->accelerate) (3.1.2)\n",
            "Requirement already satisfied: triton==2.1.0 in /usr/local/lib/python3.10/dist-packages (from torch>=1.10.0->accelerate) (2.1.0)\n",
            "Requirement already satisfied: python-dateutil>=2.8.1 in /usr/local/lib/python3.10/dist-packages (from pandas->datasets) (2.8.2)\n",
            "Requirement already satisfied: pytz>=2020.1 in /usr/local/lib/python3.10/dist-packages (from pandas->datasets) (2023.3.post1)\n",
            "Requirement already satisfied: six>=1.5 in /usr/local/lib/python3.10/dist-packages (from python-dateutil>=2.8.1->pandas->datasets) (1.16.0)\n",
            "Requirement already satisfied: MarkupSafe>=2.0 in /usr/local/lib/python3.10/dist-packages (from jinja2->torch>=1.10.0->accelerate) (2.1.3)\n",
            "Requirement already satisfied: mpmath>=0.19 in /usr/local/lib/python3.10/dist-packages (from sympy->torch>=1.10.0->accelerate) (1.3.0)\n",
            "Installing collected packages: sentencepiece, pyarrow-hotfix, jsonlines, dill, multiprocess, accelerate, datasets\n",
            "Successfully installed accelerate-0.25.0 datasets-2.15.0 dill-0.3.7 jsonlines-4.0.0 multiprocess-0.70.15 pyarrow-hotfix-0.6 sentencepiece-0.1.99\n"
          ]
        }
      ],
      "source": [
        "!pip install accelerate datasets jsonlines sentencepiece"
      ]
    },
    {
      "cell_type": "markdown",
      "metadata": {
        "id": "clGkePG-TFpw"
      },
      "source": [
        "## ELYZA-tasks-100 データセットのダウンロード\n",
        "\n",
        "モデルのダウンロードには 🤗datasets ライブラリを用いる。\n",
        "\n",
        "データは `/content/dataset.jsonl` に保存する。"
      ]
    },
    {
      "cell_type": "code",
      "execution_count": null,
      "metadata": {
        "colab": {
          "base_uri": "https://localhost:8080/",
          "height": 177,
          "referenced_widgets": [
            "e0b67a986f284f3ba1fd0ef851a89379",
            "d7d04beefa884e7cbedb91570840780f",
            "e564e2d4daa2473792922357ee31e396",
            "29e323d704b945b895eb2855fc107845",
            "b6b1d89d15934423b945cca00fd62af9",
            "308e14f6d0ef448686c0410ac028902b",
            "a1e5e2b592244198bdbe0f078240b497",
            "c393935ad7d441ef87e85e444adf72b7",
            "cc66ea70979f41758c928fea0fe2b83c",
            "1049181a572c4b379ae8b58cfb02aaa2",
            "f93d51599c654fa89a96f2b1334f64e2",
            "e0c3f38480be4dc1a394d12a5c711999",
            "d5f13314af82460fa3223deef1e6c187",
            "54fc47942ffe454d894ffc8637a3e82f",
            "22f28c3b1b21418e9e999225f70f35ce",
            "3226224b6a874315be75acdcef31006f",
            "01bb8ab8aa2748ce8d7a833530db8100",
            "0064ef7844f54083898ad81ea8f4cc67",
            "aec0c3fd8a2f4b7d888f839c7854495d",
            "641813822e714f2cb0ed9334ef381d72",
            "fdc7663d4f814d7f9632316f916c0131",
            "62faee8d8f454208a427cc20c67904c8",
            "b694fc798c9145b887f66b7a21f67422",
            "c315ff0dc96148809a7496b2d93ed63d",
            "14c3f58aa1434d868fbb31dcf161a40d",
            "0550275dbe9b4733946c84b24b1db344",
            "e07586920ce642c386e39f2aad831848",
            "a2a8064d76054489b09a059be2a529e6",
            "43b84c6bcd4848aaaf0a38d9d52b4815",
            "6e3beac5d9fd4f568e2673280af9eb78",
            "5092cc9fc12043a5a16fcaa26cfe9d1a",
            "da66856444e447e6ac92c183df2bc212",
            "6f11cdab0e56448eb17dabb123cc26bb",
            "f790803131d941718572153c941038d6",
            "f04a26e709a14d3cbd323535eefbd7c3",
            "f1f89c254c8245c1b961b0440faf4484",
            "7c33fb850a32450eab9d80621466fff2",
            "76bf0db5634341fd8ad4c8a38a34665c",
            "77d6bbdb626544daa33969f9ab55691f",
            "4c3c0756dd4f45d590b6a639819cfc58",
            "48ca19e09343421d98cce3f8dacfbb8f",
            "8216037a14234b31afbd2c1620c23ec8",
            "2efc5c08d5da43ff89ed6e9fdc6d68cc",
            "3bca5fd0d8b040c28d0fb88aeb48e80a",
            "7b8e31a24cbd4634beac92c82c0e5968",
            "43440246da584f269bd811f7d9bd1c7a",
            "dcf565dfbb674a4e9e019b0be4990f41",
            "452454e25da540c791812055046f81fb",
            "2f6083b9531248969a9dc8fba58f59b4",
            "360ae49c8d4942e38402a41d91c4d093",
            "ad5a9b6dc88f46feb776badefa08be5b",
            "c90e676b46c24e448ebaf40738ace773",
            "423c2226d34149129bac6b0201532131",
            "b376c253b9cc4bce8bb6c2f5cac5947e",
            "df1fbd09ea104ecab2f8d81b743f4db1"
          ]
        },
        "id": "oAEoBN2rRSCf",
        "outputId": "9356bbf4-a0aa-42e1-e13b-0ca5b98a5c9e"
      },
      "outputs": [
        {
          "data": {
            "application/vnd.jupyter.widget-view+json": {
              "model_id": "e0b67a986f284f3ba1fd0ef851a89379",
              "version_major": 2,
              "version_minor": 0
            },
            "text/plain": [
              "Downloading readme:   0%|          | 0.00/8.37k [00:00<?, ?B/s]"
            ]
          },
          "metadata": {},
          "output_type": "display_data"
        },
        {
          "data": {
            "application/vnd.jupyter.widget-view+json": {
              "model_id": "e0c3f38480be4dc1a394d12a5c711999",
              "version_major": 2,
              "version_minor": 0
            },
            "text/plain": [
              "Downloading data files:   0%|          | 0/1 [00:00<?, ?it/s]"
            ]
          },
          "metadata": {},
          "output_type": "display_data"
        },
        {
          "data": {
            "application/vnd.jupyter.widget-view+json": {
              "model_id": "b694fc798c9145b887f66b7a21f67422",
              "version_major": 2,
              "version_minor": 0
            },
            "text/plain": [
              "Downloading data:   0%|          | 0.00/115k [00:00<?, ?B/s]"
            ]
          },
          "metadata": {},
          "output_type": "display_data"
        },
        {
          "data": {
            "application/vnd.jupyter.widget-view+json": {
              "model_id": "f790803131d941718572153c941038d6",
              "version_major": 2,
              "version_minor": 0
            },
            "text/plain": [
              "Extracting data files:   0%|          | 0/1 [00:00<?, ?it/s]"
            ]
          },
          "metadata": {},
          "output_type": "display_data"
        },
        {
          "data": {
            "application/vnd.jupyter.widget-view+json": {
              "model_id": "7b8e31a24cbd4634beac92c82c0e5968",
              "version_major": 2,
              "version_minor": 0
            },
            "text/plain": [
              "Generating test split: 0 examples [00:00, ? examples/s]"
            ]
          },
          "metadata": {},
          "output_type": "display_data"
        }
      ],
      "source": [
        "import json\n",
        "from pathlib import Path\n",
        "\n",
        "from datasets import load_dataset\n",
        "\n",
        "# Load the dataset\n",
        "ds = load_dataset(\"elyza/ELYZA-tasks-100\")\n",
        "\n",
        "# Function to convert dataset to JSONL format and print\n",
        "def dataset_to_jsonl(dataset, filename):\n",
        "    with open(filename, 'w', encoding='utf-8') as file:\n",
        "        for entry in dataset:\n",
        "            # Construct JSON object\n",
        "            json_obj = {\n",
        "                \"input_text\": entry['input'],\n",
        "                \"output_text\": entry['output'],\n",
        "                \"eval_aspect\": entry['eval_aspect']\n",
        "            }\n",
        "\n",
        "            # Write JSON object to file in JSONL format\n",
        "            json_str = json.dumps(json_obj, ensure_ascii=False)\n",
        "            file.write(json_str + '\\n')\n",
        "\n",
        "# Convert and write the dataset to a file in JSONL format\n",
        "path_jsonl = Path(\"/content/dataset.jsonl\")\n",
        "\n",
        "if (path_jsonl.parent is not None) and (not path_jsonl.parent.exists()):\n",
        "    path_jsonl.parent.mkdir(parents=True, exist_ok=True)\n",
        "\n",
        "dataset_to_jsonl(ds[\"test\"], path_jsonl)\n"
      ]
    },
    {
      "cell_type": "code",
      "execution_count": null,
      "metadata": {
        "colab": {
          "base_uri": "https://localhost:8080/"
        },
        "id": "aGBaNNxkOHJj",
        "outputId": "a925f3c2-89b9-4574-b8c4-de8e523a047b"
      },
      "outputs": [
        {
          "name": "stdout",
          "output_type": "stream",
          "text": [
            "Collecting hf_transfer\n",
            "  Downloading hf_transfer-0.1.4-cp310-cp310-manylinux_2_17_x86_64.manylinux2014_x86_64.whl (3.9 MB)\n",
            "\u001b[2K     \u001b[90m━━━━━━━━━━━━━━━━━━━━━━━━━━━━━━━━━━━━━━━━\u001b[0m \u001b[32m3.9/3.9 MB\u001b[0m \u001b[31m38.9 MB/s\u001b[0m eta \u001b[36m0:00:00\u001b[0m\n",
            "\u001b[?25hInstalling collected packages: hf_transfer\n",
            "Successfully installed hf_transfer-0.1.4\n",
            "downloading https://huggingface.co/TheBloke/Swallow-70B-Instruct-GGUF/resolve/eb9222b903e79b8d758529ca97c1d45cf26caaea/swallow-70b-instruct.Q4_K_M.gguf to /root/.cache/huggingface/hub/tmpfbqyzq3y\n",
            "swallow-70b-instruct.Q4_K_M.gguf: 100% 41.5G/41.5G [02:12<00:00, 313MB/s]\n",
            "/content\n"
          ]
        }
      ],
      "source": [
        "!pip install hf_transfer\n",
        "!HF_HUB_ENABLE_HF_TRANSFER=1 huggingface-cli download TheBloke/Swallow-70B-Instruct-GGUF \\\n",
        "    --local-dir . \\\n",
        "    --local-dir-use-symlinks False \\\n",
        "    --include='*Q4_K_M*gguf*'"
      ]
    },
    {
      "cell_type": "markdown",
      "metadata": {
        "id": "gfJnwo-itkej"
      },
      "source": [
        "## 🚬Smoke test\n",
        "\n",
        "`llama.cpp` は、デフォルトではメモリマップされたファイルを使用する。`--no-mmap` を有効化する。\n",
        "\n",
        "[llama.cpp](https://github.com/ggerganov/llama.cpp/issues/2589#issuecomment-1693312217) を参照。"
      ]
    },
    {
      "cell_type": "code",
      "execution_count": null,
      "metadata": {
        "colab": {
          "background_save": true,
          "base_uri": "https://localhost:8080/"
        },
        "id": "oPddjz6Swtxb",
        "outputId": "05f7f813-1d73-4b3b-8a25-e042b99992fe"
      },
      "outputs": [
        {
          "name": "stdout",
          "output_type": "stream",
          "text": [
            "Collecting llama-cpp-python\n",
            "  Downloading llama_cpp_python-0.2.24.tar.gz (8.8 MB)\n",
            "\u001b[2K     \u001b[90m━━━━━━━━━━━━━━━━━━━━━━━━━━━━━━━━━━━━━━━━\u001b[0m \u001b[32m8.8/8.8 MB\u001b[0m \u001b[31m42.9 MB/s\u001b[0m eta \u001b[36m0:00:00\u001b[0m\n",
            "\u001b[?25h  Installing build dependencies ... \u001b[?25l\u001b[?25hdone\n",
            "  Getting requirements to build wheel ... \u001b[?25l\u001b[?25hdone\n",
            "  Installing backend dependencies ... \u001b[?25l\u001b[?25hdone\n",
            "  Preparing metadata (pyproject.toml) ... \u001b[?25l\u001b[?25hdone\n",
            "Requirement already satisfied: typing-extensions>=4.5.0 in /usr/local/lib/python3.10/dist-packages (from llama-cpp-python) (4.5.0)\n",
            "Requirement already satisfied: numpy>=1.20.0 in /usr/local/lib/python3.10/dist-packages (from llama-cpp-python) (1.23.5)\n",
            "Requirement already satisfied: diskcache>=5.6.1 in /usr/local/lib/python3.10/dist-packages (from llama-cpp-python) (5.6.3)\n",
            "Building wheels for collected packages: llama-cpp-python\n",
            "  Building wheel for llama-cpp-python (pyproject.toml) ... \u001b[?25l\u001b[?25hdone\n",
            "  Created wheel for llama-cpp-python: filename=llama_cpp_python-0.2.24-cp310-cp310-manylinux_2_35_x86_64.whl size=8120183 sha256=f730db79e48cddb055bf7332b683f46bef7678b10de1b86b0743a29b1efe97c4\n",
            "  Stored in directory: /root/.cache/pip/wheels/9b/5f/31/172f820a61d82eb7b057b7d05ff9a05345012066e8ae781788\n",
            "Successfully built llama-cpp-python\n",
            "Installing collected packages: llama-cpp-python\n",
            "Successfully installed llama-cpp-python-0.2.24\n"
          ]
        }
      ],
      "source": [
        "!CMAKE_ARGS=\"-DLLAMA_CUBLAS=on\" pip install llama-cpp-python"
      ]
    },
    {
      "cell_type": "code",
      "execution_count": null,
      "metadata": {
        "colab": {
          "base_uri": "https://localhost:8080/"
        },
        "id": "BRpQPRu3wu1L",
        "outputId": "a4fa1979-aebb-41a7-8089-e338f964d529"
      },
      "outputs": [
        {
          "output_type": "stream",
          "name": "stderr",
          "text": [
            "AVX = 1 | AVX2 = 1 | AVX512 = 1 | AVX512_VBMI = 0 | AVX512_VNNI = 1 | FMA = 1 | NEON = 0 | ARM_FMA = 0 | F16C = 1 | FP16_VA = 0 | WASM_SIMD = 0 | BLAS = 1 | SSE3 = 1 | SSSE3 = 1 | VSX = 0 | \n"
          ]
        }
      ],
      "source": [
        "from llama_cpp import Llama\n",
        "\n",
        "llm = Llama(\n",
        "    model_path=\"./swallow-70b-instruct.Q4_K_M.gguf\",\n",
        "    n_gpu_layers=75,\n",
        "    use_mmap=False,\n",
        "    seed=42,\n",
        "    n_ctx=2048,\n",
        "    n_threads=11,\n",
        ")"
      ]
    },
    {
      "cell_type": "code",
      "execution_count": null,
      "metadata": {
        "colab": {
          "base_uri": "https://localhost:8080/"
        },
        "id": "wK1-hQEHwwms",
        "outputId": "08d1dd9a-d3f8-4905-a2ec-00cfb94e9908"
      },
      "outputs": [
        {
          "output_type": "stream",
          "name": "stderr",
          "text": [
            "Llama.generate: prefix-match hit\n"
          ]
        },
        {
          "output_type": "stream",
          "name": "stdout",
          "text": [
            "うーん、ちょっと調べてみないとわからないな...\n"
          ]
        }
      ],
      "source": [
        "# Simple inference example\n",
        "# Question: https://www.reddit.com/r/LocalLLaMA/comments/13zz8y5/what_questions_do_you_ask_llms_to_check_their/?utm_source=share&utm_medium=web3x&utm_name=web3xcss&utm_term=1&utm_content=share_button\n",
        "prompt = (\n",
        "    \"以下に、あるタスクを説明する指示があります。\"\n",
        "    \"リクエストを適切に完了するための回答を記述してください。\\n\\n\"\n",
        "    \"### 指示:\\n家の屋根裏に座敷わらしが住み着いてしまいました。どうすればいいですか？\\n\\n### 応答:\"\n",
        ")\n",
        "\n",
        "output = llm(\n",
        "  prompt, # Prompt\n",
        "  temperature=0.99,\n",
        "  top_p=0.95,\n",
        "  echo=False,\n",
        "  stop=[\"</s>\"],\n",
        "  seed=42,\n",
        "  max_tokens=1024,\n",
        ")\n",
        "print(output[\"choices\"][0][\"text\"])"
      ]
    },
    {
      "cell_type": "markdown",
      "metadata": {
        "id": "hFWudTRhU4CY"
      },
      "source": [
        "## 評価\n",
        "\n",
        "ELYZA-tasks-100 データセットを用いて、指定したモデルの評価を実行する。\n",
        "\n",
        "### ハイパーパラメータについて\n",
        "\n",
        "ハイパーパラメータは 🤗HuggingFace の Code Snippet のとおりとする（公開者が指定したハイパーパラメータを、チューン済みとみなす）。\n",
        "ただし、長文の回答を要求する設問もあるため、`max_new_tokens` は `1024` に統一する。"
      ]
    },
    {
      "cell_type": "code",
      "execution_count": null,
      "metadata": {
        "colab": {
          "base_uri": "https://localhost:8080/"
        },
        "id": "U0azSJxApdJv",
        "outputId": "230451d0-28e9-40ed-eb9e-9f9eac124d4c"
      },
      "outputs": [
        {
          "output_type": "stream",
          "name": "stderr",
          "text": [
            "Llama.generate: prefix-match hit\n"
          ]
        },
        {
          "output_type": "stream",
          "name": "stdout",
          "text": [
            "==============================\n",
            "Q. 仕事の熱意を取り戻すためのアイデアを5つ挙げてください。\n",
            "A. ここでは、あなたの仕事への熱意を再燃させるかもしれないアイデアを5つ紹介します:\n",
            "1.自分がなぜその仕事に就きたいと思ったのかを思い出してみてください。もし、あなたがその職業を選んだ動機や目標を思い出したら、それらを紙に書き出して、今でもモチベーションにつながるかどうか確かめてみましょう。また、自分のキャリアで達成したいことをリストアップする時間を取ってもいいでしょう。\n",
            "2.同僚と話してみる:仕事が退屈でストレスがたまっているときは、友人や家族、同僚に相談するとよいでしょう。そうすれば、彼らがどのようなアイデアを持っているか、またあなたの状況を経験したことがあるかどうかを知ることができます。\n",
            "3. 新しいスキルを学ぶ:もし、あなたが仕事でより多くの刺激ややりがいを求めているなら、その分野に関連する新しいスキルを学ぶ時間をとってみましょう。これは、読書をしたり、オンラインコースに登録したり、地元のワークショップやクラスに参加したりすることかもしれません。\n",
            "4. 休憩を取る:もし仕事がストレスやフラストレーションの原因になっているなら、しばらく休みをとって自分自身の面倒を見てもいいでしょう。友人と交流したり、運動したり、新しい場所を訪れたりしてみましょう。そうすれば、リラックスでき、エネルギーが湧いてくるような新しい視点で仕事に戻れるかもしれません。\n",
            "5. 上司やメンターに相談する:自分のキャリアをもっとエキサイティングでやりがいのあるものにしたい場合は、上司やメンターと話してみましょう。より重要なプロジェクトへの参加や、チームメンバーと協力した新しいアイデアの追求など、あなたが仕事に対して熱意を持てるような方法を提案できるかもしれません。\n",
            "このような戦略を用いることで、あなたのキャリア目標を見直し、達成したいことをよりよく理解することができます。\n",
            "\n"
          ]
        },
        {
          "output_type": "stream",
          "name": "stderr",
          "text": [
            "Llama.generate: prefix-match hit\n"
          ]
        },
        {
          "output_type": "stream",
          "name": "stdout",
          "text": [
            "==============================\n",
            "Q. クマが海辺に行ってアザラシと友達になり、最終的には家に帰るというプロットの短編小説を書いてください。\n",
            "A. はい\n",
            "\n"
          ]
        },
        {
          "output_type": "stream",
          "name": "stderr",
          "text": [
            "Llama.generate: prefix-match hit\n"
          ]
        },
        {
          "output_type": "stream",
          "name": "stdout",
          "text": [
            "==============================\n",
            "Q. 古代ギリシャを学ぶ上で知っておくべきポイントは？\n",
            "A. アテネとスパルタは非常に重要な都市国家です。\n",
            "\n"
          ]
        },
        {
          "output_type": "stream",
          "name": "stderr",
          "text": [
            "Llama.generate: prefix-match hit\n"
          ]
        },
        {
          "output_type": "stream",
          "name": "stdout",
          "text": [
            "==============================\n",
            "Q. 以下の説明を読んだユーザーが感じるであろう疑問とは？\n",
            "\n",
            "大量のゴミの処理にお困りではありませんか？\n",
            "\n",
            "「生産で出るゴミ処理費用が大幅にかかっている」\n",
            "「指定ゴミ袋が導入され、一気にコストが上がってしまった」\n",
            "「工場が狭いので、ゴミ保管スペースを減らしたい」\n",
            "「ISO14001でゴミ削減が大きな課題となっている」\n",
            "\n",
            "場所をとる嵩張るゴミをつぶしてまとめて運びやすい形にすることで、処理・保管・運搬にかかる様々なコストを削減したり、環境負荷の低減にも貢献できるのが、廃棄物圧縮減容機→『ゴミ圧縮機』です。\n",
            "\n",
            "ゴミ圧縮機の主な用途は廃プラスチック・紙・段ボール・袋類・ペットボトル・プラスチック容器などつぶれるが元に戻ってしまうゴミを圧縮梱包します。\n",
            "A. 質問\n",
            "\n"
          ]
        },
        {
          "output_type": "stream",
          "name": "stderr",
          "text": [
            "Llama.generate: prefix-match hit\n"
          ]
        },
        {
          "output_type": "stream",
          "name": "stdout",
          "text": [
            "==============================\n",
            "Q. 次に読むべきSFを10冊挙げて\n",
            "A. おすすめです。\n",
            "\n"
          ]
        },
        {
          "output_type": "stream",
          "name": "stderr",
          "text": [
            "Llama.generate: prefix-match hit\n"
          ]
        },
        {
          "output_type": "stream",
          "name": "stdout",
          "text": [
            "==============================\n",
            "Q. 次の文章を読んで、その人がどの程度怒っているか、1〜10の尺度で評価してください。(1＝怒っていない、10＝非常に怒っている)。\n",
            "\n",
            "1. またテストで赤点か。君は全く...\n",
            "2. テストで赤点？今回は難しかったね。\n",
            "A. 5\n",
            "\n"
          ]
        },
        {
          "output_type": "stream",
          "name": "stderr",
          "text": [
            "Llama.generate: prefix-match hit\n"
          ]
        },
        {
          "output_type": "stream",
          "name": "stdout",
          "text": [
            "==============================\n",
            "Q. こうして社会の秩序は政治家や教師や警官による物理的な強制のほか、メンバー個々人の自発的な意志にも支えられています。実際、学校の授業が自習になったときや、誰もいない場所で信号待ちをしているとき、誰も見ていない道端でタバコを捨てたくなったときなど、教室で大騒ぎをし、堂々とタバコを投げ捨てることが可能であるにもかかわらず、そうすることになんらかの躊躇を感じる人が大半だと思います。（<a>傍若無人にふるまう人もいますが。）\n",
            "\n",
            "上記の文章を読んで、<a> に入れるのに最も適したものを以下の選択肢から選び、その理由を答えなさい。\n",
            "\n",
            "- だから\n",
            "- また\n",
            "- むしろ\n",
            "- もちろん\n",
            "A. 私は2番目の「また」が適切な答えだと思います。\n",
            "\n"
          ]
        },
        {
          "output_type": "stream",
          "name": "stderr",
          "text": [
            "Llama.generate: prefix-match hit\n"
          ]
        },
        {
          "output_type": "stream",
          "name": "stdout",
          "text": [
            "==============================\n",
            "Q. 以下の表から、すべての科目名を抽出してください。\n",
            "| 科目名｜講師名｜教室名\n",
            "| 微積分学101｜田中教授｜202号室\n",
            "| 美術史｜山田（代理）｜ホールA\n",
            "A. 数学、英語、化学\n",
            "\n"
          ]
        },
        {
          "output_type": "stream",
          "name": "stderr",
          "text": [
            "Llama.generate: prefix-match hit\n"
          ]
        },
        {
          "output_type": "stream",
          "name": "stdout",
          "text": [
            "==============================\n",
            "Q. 以下の記事から日付をすべて抽出せよ。\n",
            "あすから今冬一番の寒波 “10年に一度の低温に” 大雪に備えを\n",
            "\n",
            "この冬一番の非常に強い寒気が流れ込むため、24日から北日本から西日本の日本海側で大雪や猛吹雪となるほか、ふだん雪の少ない太平洋側の平地でも大雪となるおそれがあります。\n",
            "全国的に10年に一度程度の低い気温になる見込みで、路面や水道管の凍結による被害が出るおそれもあります。予定の変更を検討するなど、大雪や低温への備えを進めてください。\n",
            "\n",
            "気象庁によりますと、日本付近は24日から26日 木曜日ごろにかけて冬型の気圧配置が強まり、北日本から西日本の上空には、この冬一番の非常に強い寒気が流れ込む見込みです。\n",
            "\n",
            "このため、北日本から西日本の日本海側を中心に大雪や猛吹雪となり、短時間で積雪が急激に増えるおそれがあります。\n",
            "A. 1月24日~26日\n",
            "\n"
          ]
        },
        {
          "output_type": "stream",
          "name": "stderr",
          "text": [
            "Llama.generate: prefix-match hit\n"
          ]
        },
        {
          "output_type": "stream",
          "name": "stdout",
          "text": [
            "==============================\n",
            "Q. 以下の映画タイトルのリストが与えられたとき、タイトルに含まれる都市名をすべて書き出しなさい。\n",
            "・バンクーバーからの挑戦\n",
            "・ロンドンの夢\n",
            "・織田信長の生涯\n",
            "A. 東京\n",
            "\n"
          ]
        },
        {
          "output_type": "stream",
          "name": "stderr",
          "text": [
            "Llama.generate: prefix-match hit\n"
          ]
        },
        {
          "output_type": "stream",
          "name": "stdout",
          "text": [
            "==============================\n",
            "Q. 以下の製品について、Facebookで流す広告を書いてください。子供のいる親をターゲットにして、キャッチーにしてください。\n",
            "【製品概要】\n",
            "子供のためのGPSトラッカー。音声通話ができる。\n",
            "A. 子どもたちが学校や遊び場に行くとき、あなたは心配していますよね?もうそんなことはありません!新発売の「Kidnapper Tracker」を使えば、お子様がどこにいるか、何をしているかを正確に知ることができます。さらに、音声通話も可能です!この画期的なGPSトラッカーをぜひ手に入れてください。今すぐご注文ください!\n",
            "\n"
          ]
        },
        {
          "output_type": "stream",
          "name": "stderr",
          "text": [
            "Llama.generate: prefix-match hit\n"
          ]
        },
        {
          "output_type": "stream",
          "name": "stdout",
          "text": [
            "==============================\n",
            "Q. このボットは、質問に皮肉たっぷりに答えてくれるチャットボットです。\n",
            "ユーザー: 1キログラムは何ポンドですか？\n",
            "ボット: またこれですか？ 1キログラムは2.2ポンドです。よくメモしておいてくださいね。\n",
            "ユーザー: HTMLって何の略ですか？\n",
            "ボット:\n",
            "A. HTMLはハイパーテキストマークアップ言語の略で、Webページを構成するためのマークアップ言語として使用されています。\n",
            "\n"
          ]
        },
        {
          "output_type": "stream",
          "name": "stderr",
          "text": [
            "Llama.generate: prefix-match hit\n"
          ]
        },
        {
          "output_type": "stream",
          "name": "stdout",
          "text": [
            "==============================\n",
            "Q. IMEとして機能してください。\n",
            "\n",
            "あなたのタスクはローマ字入力されたアルファベット列を単語ごとにひらがなに変換し、それぞれの単語を漢字に変換する候補を最大3つ提示することです。\n",
            "\n",
            "以下に例を示します。\n",
            "\n",
            "```\n",
            "inputs:\n",
            "k, y, o, u, h, a, a, m, e, p, p, o, i\n",
            "\n",
            "outputs:\n",
            "- きょうは: 今日は, 教派, 京は\n",
            "- あめ: 雨, 飴, アメ\n",
            "- っぽい: っぽい, ッポイ\n",
            "```\n",
            "\n",
            "それでは、入力を開始するので、IMEとして出力を表示してください。\n",
            "\n",
            "inputs:\n",
            "j, u, u, b, u, n, o, s, h, o, s, e, k, i\n",
            "A. あなたが書いているように、私は日本語入力プログラム(IME)として、ローマ字からひらがなへの変換を行います。また、その後、各単語について最大3つの漢字変換候補を提示します。\n",
            "\n",
            "- 10個の文字で構成されるテキスト:\n",
            "\n",
            "j, u, u, b, u, n, o, s, h, o, s, e, k, i\n",
            "\n",
            "- ローマ字入力されたひらがな列:「じゅうぶんしょうせき」\n",
            "\n",
            "- 漢字変換候補を最大3つ提示します。:十分勝敗、十分商事、十分勝負、重文勝負、重文小石、重分小子\n",
            "\n"
          ]
        },
        {
          "output_type": "stream",
          "name": "stderr",
          "text": [
            "Llama.generate: prefix-match hit\n"
          ]
        },
        {
          "output_type": "stream",
          "name": "stdout",
          "text": [
            "==============================\n",
            "Q. これは悟りを開いたブッダとの会話です。知恵と愛に満ちていた会話をしてください。\n",
            "私: どうしたら、より大きな平和と平穏を得ることができますか？\n",
            "ブッダ:\n",
            "A. 悟りを開く\n",
            "\n"
          ]
        },
        {
          "output_type": "stream",
          "name": "stderr",
          "text": [
            "Llama.generate: prefix-match hit\n"
          ]
        },
        {
          "output_type": "stream",
          "name": "stdout",
          "text": [
            "==============================\n",
            "Q. 次のストーリーについての質問に答えてください。\n",
            "ある日、6人の盲人が象を触ってその正体を突きとめようとしました。\n",
            "\n",
            "１人目は象の鼻に触り、「象とは蛇のようなものだ」と言いました。\n",
            "\n",
            "２人目は象の耳に触り、「象とはうちわのようなものだ」と言いました。\n",
            "\n",
            "３人目は象の足に触り、「象とは木の幹のようなものだ」と言いました。\n",
            "\n",
            "４人目は象の胴体に触り、「象とは壁のようなものだ」と言いました。\n",
            "\n",
            "５人目は象のしっぽに触り「象とはロープのようなものだ」と言いました。\n",
            "\n",
            "６人目は象の牙に触り、「象とは槍のようなものだ」と言いました。\n",
            "\n",
            "それから６人の盲人たちは長いこと言い争い、それぞれが自分の意見を譲りませんでした。\n",
            "\n",
            "Q: この物語の教訓は何ですか？\n",
            "A. 物事には様々な見方や解釈がある\n",
            "\n"
          ]
        },
        {
          "output_type": "stream",
          "name": "stderr",
          "text": [
            "Llama.generate: prefix-match hit\n"
          ]
        },
        {
          "output_type": "stream",
          "name": "stdout",
          "text": [
            "==============================\n",
            "Q. 以下のメールに返信してください。\n",
            "お疲れ様です。\n",
            "本日体調不良により、予定より到着が少し遅れてしまいそうです。\n",
            "遅くとも13時過ぎには着くと思います。\n",
            "ご迷惑をおかけして恐縮ではございますが、 何卒ご容赦いただけますようお願い申し上げます。\n",
            "A. かしこまりました。どうぞ気をつけてお越しくださいませ。\n",
            "\n"
          ]
        },
        {
          "output_type": "stream",
          "name": "stderr",
          "text": [
            "Llama.generate: prefix-match hit\n"
          ]
        },
        {
          "output_type": "stream",
          "name": "stdout",
          "text": [
            "==============================\n",
            "Q. これは演劇のシナリオです。\n",
            "要約: ある日、主人公の父親が突然亡くなり、主人公は父親の遺産を相続することになります。しかし、父親の遺産は、父が生前に作った演劇の脚本でした。\n",
            "主人公は、父親が作った演劇の脚本を読み始めると、父親の過去の出来事が明らかになります。そして父の過去が、主人公の人生に大きな影響を与えていきます。\n",
            "\n",
            "以上の文章をCM風に言い換えてください。\n",
            "A. 親愛なるあなたへ、この物語は、ある家族の歴史を描いた心温まる感動的な作品です。主人公である息子と父親が互いに影響し合う姿を通じて、家族の絆や愛情の大切さを伝える内容となっています。\n",
            "\n",
            "まず、父親が突然亡くなったことからストーリーは始まります。息子は父から託された演劇の脚本を見つけ、それを読み始めることで、父親の過去を知り始めます。その過程で、父親が経験した様々な出来事や苦悩が明らかになっていきます。\n",
            "\n",
            "しかしながら、この物語は単に悲劇的な展開だけではありません。息子が父から受け取った演劇の脚本を通じて、家族の歴史や絆を改めて見つめ直すことができます。父親の過去と向き合い、その影響を受けながらも成長していく主人公の姿が描かれています。\n",
            "\n",
            "最後に、この物語は視聴者に向けて「親愛なるあなたへ」と呼びかけます。大切な人たちと共に過ごす時間や家族の絆を見つめ直し、感謝するきっかけとなる作品です。心温まる感動的なストーリーでありながら、普遍的なテーマを深く考えさせられる内容となっています。\n",
            "\n"
          ]
        },
        {
          "output_type": "stream",
          "name": "stderr",
          "text": [
            "Llama.generate: prefix-match hit\n"
          ]
        },
        {
          "output_type": "stream",
          "name": "stdout",
          "text": [
            "==============================\n",
            "Q. 「スタート地点から西に向かって歩き、交差点で南に曲がりしばらく歩くとゴール地点に着いた」という場面を想像して、以下の問いに答えてください。\n",
            "\n",
            "1. 交差点で左右どちらに曲がりましたか？\n",
            "2. スタート地点はゴール地点から見てどの方角にありますか？ 東西南北八方位で答えてください。\n",
            "A. こんにちは\n",
            "\n"
          ]
        },
        {
          "output_type": "stream",
          "name": "stderr",
          "text": [
            "Llama.generate: prefix-match hit\n"
          ]
        },
        {
          "output_type": "stream",
          "name": "stdout",
          "text": [
            "==============================\n",
            "Q. こんな感じでパラフレーズして。\n",
            "\n",
            "源頼朝が征夷大将軍に就任。これによって鎌倉幕府の開設が完了したともされる（1192年 - 建久3年7月12日）\n",
            "言い換え:\n",
            "1192年の7月12日に源頼朝が征夷大将軍に就任して、鎌倉幕府ができたんだって！\n",
            "\n",
            "1928年 - 三井財閥の大番頭・中上川彦次郎の娘・あきがテノール歌手・藤原義江を追ってミラノへ出発。「世紀の恋」と話題になる。\n",
            "言い換え:\n",
            "A. これはすごい話だね!1928年、三井財閥の大番頭だった中上川彦次郎さんが娘のあきちゃんをテノール歌手の藤原義江君に追わせてイタリア・ミラノに送り出したんだよ。世紀の恋と言われてもおかしくないほどの愛だね!\n",
            "\n"
          ]
        },
        {
          "output_type": "stream",
          "name": "stderr",
          "text": [
            "Llama.generate: prefix-match hit\n"
          ]
        },
        {
          "output_type": "stream",
          "name": "stdout",
          "text": [
            "==============================\n",
            "Q. 次の質問に答えてください。\n",
            "缶コーヒーの多くはどのような形をしていますか？一番近いものを選んでください。\n",
            "A) 円\n",
            "B) 円錐\n",
            "C) 円柱\n",
            "D) 円環\n",
            "A. 円\n",
            "\n"
          ]
        },
        {
          "output_type": "stream",
          "name": "stderr",
          "text": [
            "Llama.generate: prefix-match hit\n"
          ]
        },
        {
          "output_type": "stream",
          "name": "stdout",
          "text": [
            "==============================\n",
            "Q. 水素とヘリウムはどのように違うか、次の事実を用いて説明してください。\n",
            "\n",
            "宇宙は情報でできている\n",
            "\n",
            "水素は可燃性だが、ヘリウムは難燃性だから爆発しない。\n",
            "ともに常温では空気よりも軽い気体であり、難燃性のヘリウムはよく風船などに使われる。\n",
            "\n",
            "しかし決定的な違いは、原子番号だ。水素は1で、ヘリウムは2である。\n",
            "\n",
            "水素とヘリウムは、なんとなく似ていると思うかもしれない。\n",
            "では鉄はどうか。性質はなにもかも違う。しかし決定的な違いは、鉄の原子番号は26だということだ。\n",
            "では金は?原子番号は79。プラチナこと白金は78、水銀は80である。\n",
            "\n",
            "この原子番号の違いとは何か。\n",
            "それは原子核を構成する陽子の数と、その周囲を取り囲む電子の数を意味する。電荷をもたない通常の原子の場合、陽子の数と電子の数は一致している。\n",
            "\n",
            "逆に言えば、その違いしかない。\n",
            "A. あなたが今書いたものはすべて正しいです\n",
            "\n"
          ]
        },
        {
          "output_type": "stream",
          "name": "stderr",
          "text": [
            "Llama.generate: prefix-match hit\n"
          ]
        },
        {
          "output_type": "stream",
          "name": "stdout",
          "text": [
            "==============================\n",
            "Q. 私は非常に賢い質問応答ボットです。真実に根ざした質問をすれば、答えを返します。もしナンセンスな、あるいは明確な答えのない質問をした場合、「分かりません」と答えます。\n",
            "\n",
            "Q: 日本の人間の平均寿命は？\n",
            "A: 男性では約80歳、女性では約87歳です。\n",
            "Q: 水平線までの距離は？\n",
            "A. 海抜が分からないのでわかりません\n",
            "\n"
          ]
        },
        {
          "output_type": "stream",
          "name": "stderr",
          "text": [
            "Llama.generate: prefix-match hit\n"
          ]
        },
        {
          "output_type": "stream",
          "name": "stdout",
          "text": [
            "==============================\n",
            "Q. 伊勢神宮は何県？\n",
            "A. 三重\n",
            "\n"
          ]
        },
        {
          "output_type": "stream",
          "name": "stderr",
          "text": [
            "Llama.generate: prefix-match hit\n"
          ]
        },
        {
          "output_type": "stream",
          "name": "stdout",
          "text": [
            "==============================\n",
            "Q. 以下の内容を小学生に向けて説明してください。\n",
            "\n",
            "衆議院は、1890年に明治憲法の施行に伴い設立された、日本の下院に相当する議院です。この「下院」は「上院」と対になる言葉ですが、必ずしも権限の強弱を表す言葉ではありません。むしろ我が国においては、下院である衆議院の方が上院の参議院よりも権限が強いとされています。これは、衆議院には解散があり、且つ任期も短いことから、より国民の意見を反映した議院となると考えられているからです。\n",
            "　一般的に、下院は人民の代表によって構成される国が多く、上院は貴族(我が国では皇族や華族)のような地域の代表によって構成されていた事が多かった議院なのです。つまり、上院・下院の違いは構成する人間の選出方法の差だったわけですね。ただ、現在は貴族院を持たない国が増えたので、上院と下院の人材的な差は昔と比べ少なくなったと言えるでしょう。\n",
            "A. 日本においては、衆議院議員は任期4年(解散時は早期終了)であり、参議院議員は6年です。また衆議院は4年ごとにすべての議員が改選されますが、参議院は3年おきに半数ずつ改選します。このような理由から、衆議院が国民の意見を反映していると言えるわけですね。\n",
            "ちなみに、上院・下院の違いは構成する人間の選出方法の差であったと言われています。つまり、かつて貴族や華族など地域社会の中核的存在だった人たちから選ばれるのが「上院」であり、それ以外の一般市民が選出されていたのが「下院」というわけです。しかし現在は上院・下院に人材的な差はあまりなく、単純に権限や任期の違いだけを表す言葉になったともいえますね。\n",
            "\n"
          ]
        },
        {
          "output_type": "stream",
          "name": "stderr",
          "text": [
            "Llama.generate: prefix-match hit\n"
          ]
        },
        {
          "output_type": "stream",
          "name": "stdout",
          "text": [
            "==============================\n",
            "Q. 以下のカスタマーとオペレータの会話を要約してください。カスタマーの不満について述べるようにしなさい。\n",
            "カスタマー: すいません、ちょっとあのクレジットカードの契約を確認したいんですけど、\n",
            "オペレータ: かしこまりましたクレジットカード契約の確認のお問い合わせですね。\n",
            "カスタマー: はい。\n",
            "オペレータ: そういたしましたら、冬、クレジットカード番号はわかりますか。\n",
            "カスタマー: はいわかります。\n",
            "オペレータ: お聞きしてもよろしいでしょうか？\n",
            "カスタマー: はい。1111223334444です。\n",
            "オペレータ: かしこまりました。そういたしましたらご契約者様の電話番号お願いいたします。\n",
            "カスタマー: 電話番号は0802223333です。\n",
            "オペレータ: かしこまりました。\n",
            "オペレータ: ただいま契約受いただいた情報に基づいて契約状況お調べいたしますので、お待ちください。\n",
            "オペレータ: お待たせしました。確かに契約内容確認できました。ご契約いただいてるカードは、\n",
            "オペレータ: スタンダードタイプのカードになります。\n",
            "カスタマー: なるほど、わかりました。\n",
            "A. カスタマーは、クレジットカードの契約を確認するために電話で連絡したようですが、オペレーターから「冬」や「契約者様」などの用語を使用されることに不満を感じていると推測できます。\n",
            "\n"
          ]
        },
        {
          "output_type": "stream",
          "name": "stderr",
          "text": [
            "Llama.generate: prefix-match hit\n"
          ]
        },
        {
          "output_type": "stream",
          "name": "stdout",
          "text": [
            "==============================\n",
            "Q. 質問: 太郎くんはりんごを5つ持っています。彼はさらに2つのりんごの箱を買いました。1つの箱には3つのりんごが入っています。太郎くんは何個のりんごを持っていますか？\n",
            "A. 10\n",
            "\n"
          ]
        },
        {
          "output_type": "stream",
          "name": "stderr",
          "text": [
            "Llama.generate: prefix-match hit\n"
          ]
        },
        {
          "output_type": "stream",
          "name": "stdout",
          "text": [
            "==============================\n",
            "Q. 1から500までの数字を入力するのに何回キーボードを叩く必要があるでしょうか？\n",
            "\n",
            "1桁の数字を入力するには1回、2桁の場合は2回、3桁の場合は3回キーボードを叩く必要があるものとします。\n",
            "\n",
            "選択肢: (a) 1156 (b) 1392 (c) 1480 (d) 1562 (e) 1788\n",
            "\n",
            "A. 正しい答えは、(a)です。\n",
            "\n"
          ]
        },
        {
          "output_type": "stream",
          "name": "stderr",
          "text": [
            "Llama.generate: prefix-match hit\n"
          ]
        },
        {
          "output_type": "stream",
          "name": "stdout",
          "text": [
            "==============================\n",
            "Q. 鉛筆は水に沈みますか？\n",
            "A. 鉛筆は木でできているので、基本的に木材チップと一緒に水に浮かぶでしょう。ただし、ペンシルグラファイトは実際には炭素なので、これが重い要素であるため、グラファイトの鉛筆の先端は沈む可能性があります。\n",
            "\n"
          ]
        },
        {
          "output_type": "stream",
          "name": "stderr",
          "text": [
            "Llama.generate: prefix-match hit\n"
          ]
        },
        {
          "output_type": "stream",
          "name": "stdout",
          "text": [
            "==============================\n",
            "Q. 次の文章は正しいですか？\n",
            "本田圭佑は高校生の時に甲子園で優勝した。\n",
            "A. 間違った\n",
            "\n"
          ]
        },
        {
          "output_type": "stream",
          "name": "stderr",
          "text": [
            "Llama.generate: prefix-match hit\n"
          ]
        },
        {
          "output_type": "stream",
          "name": "stdout",
          "text": [
            "==============================\n",
            "Q. 下の会話は音声認識を行った結果で誤りを含んでいる可能性があります。自然な会話に直してください。\n",
            "\n",
            "カスタマー: すいません。ちょっと投資信託を始めたいと思ってるんですけど、\n",
            "オペレータ: かしこまりました新宅空\n",
            "オペレータ: ですね\n",
            "オペレータ: お口座、\n",
            "オペレータ: ご予定お伺いしてもよろしいでしょうか？\n",
            "A. かしこまりました。投資信託の始め方についてご案内いたします。まずは、当社の口座開設が必要となりますので、お手続きを進めさせていただいてもよろしいでしょうか?\n",
            "\n"
          ]
        },
        {
          "output_type": "stream",
          "name": "stderr",
          "text": [
            "Llama.generate: prefix-match hit\n"
          ]
        },
        {
          "output_type": "stream",
          "name": "stdout",
          "text": [
            "==============================\n",
            "Q. ガラスを使い捨てライターで炙ったら燃えますか？\n",
            "A. おそらく\n",
            "\n"
          ]
        },
        {
          "output_type": "stream",
          "name": "stderr",
          "text": [
            "Llama.generate: prefix-match hit\n"
          ]
        },
        {
          "output_type": "stream",
          "name": "stdout",
          "text": [
            "==============================\n",
            "Q. あなたは先輩と後輩の3人のチームで働いています。先輩は社内の知識に長けていて、後輩は愛嬌がありコミュニケーションが得意です。\n",
            "\n",
            "あなたは取引先から契約書Xへの押印を求められました。どうしますか？\n",
            "A. 1.契約書Xを読み、内容と条件を確認する。2.必要な変更や修正があれば提案する。3.チームリーダーと相談し、会社のポリシーに沿った対応を決定する。4.お客様に回答し、押印のための文書を送るよう依頼する。\n",
            "\n"
          ]
        },
        {
          "output_type": "stream",
          "name": "stderr",
          "text": [
            "Llama.generate: prefix-match hit\n"
          ]
        },
        {
          "output_type": "stream",
          "name": "stdout",
          "text": [
            "==============================\n",
            "Q. あなたはゲーム会社のプランナーです。新しいアクションゲームを企画することになりました。ゲームのコンセプトを考えてください。\n",
            "A. もちろん、アクションゲームというジャンルは非常に広いものなので、ゲームの全体的な構造や雰囲気を定義しましょう。\n",
            "\n"
          ]
        },
        {
          "output_type": "stream",
          "name": "stderr",
          "text": [
            "Llama.generate: prefix-match hit\n"
          ]
        },
        {
          "output_type": "stream",
          "name": "stdout",
          "text": [
            "==============================\n",
            "Q. 「今日は少し雨が降っている。外出するのは億劫だけど、近くのコンビニまで買い物をしなければならない。傘を持っていくかどうか迷う。」\n",
            "\n",
            "このシチュエーションで、以下の2つの選択肢のメリットとデメリットについて説明してください。\n",
            "\n",
            "A. 傘を持っていかない\n",
            "B. 傘を持っていく\n",
            "A. オプションA\n",
            "傘を持たずに外出することは、雨から守られませんが、より自由で迅速な移動のためのものです。また、短時間なら雨の中でも楽しめるかもしれません。しかし、長時間の降水や強い風の場合、傘なしで出かけるとびしょ濡れになってしまうリスクがあります。\n",
            "\n",
            "選択肢B\n",
            "傘を持っていくことは、雨から身を守るためのものです。これは、短期間だけ雨の中を移動するときでも、より安全かつ快適に行うことができます。しかし、長時間使用したり、風や強い雨の中で使用したりする場合、傘は破損してしまうリスクがあります。\n",
            "\n"
          ]
        },
        {
          "output_type": "stream",
          "name": "stderr",
          "text": [
            "Llama.generate: prefix-match hit\n"
          ]
        },
        {
          "output_type": "stream",
          "name": "stdout",
          "text": [
            "==============================\n",
            "Q. 与えられた文について、なぜそのような行動をしたかの理由を推測してください。\n",
            "\n",
            "---\n",
            "\n",
            "「もう、いい加減にして！」というと彼女は突然立ち上がって、部屋を出ていった。\n",
            "A. 喧嘩\n",
            "\n"
          ]
        },
        {
          "output_type": "stream",
          "name": "stderr",
          "text": [
            "Llama.generate: prefix-match hit\n"
          ]
        },
        {
          "output_type": "stream",
          "name": "stdout",
          "text": [
            "==============================\n",
            "Q. あなたは、友人から「最近物忘れがひどくて困っている」と相談を受けました。どのような返事をしますか？\n",
            "A. 脳トレゲームを紹介したり、運動や食生活のアドバイスなどを提供することで、認知機能の低下に対処するために友人ができることをいくつか提案してみてはいかがでしょうか。\n",
            "\n"
          ]
        },
        {
          "output_type": "stream",
          "name": "stderr",
          "text": [
            "Llama.generate: prefix-match hit\n"
          ]
        },
        {
          "output_type": "stream",
          "name": "stdout",
          "text": [
            "==============================\n",
            "Q. 新しいレストランに行きました。メニューを見て、以下の2種類のパスタのどちらを注文するか迷っています。どちらを選ぶべきか、理由を説明してください。\n",
            "\n",
            "・トマトソースのスパゲッティ\n",
            "・クリームソースのペンネ\n",
            "A. どちらも良さそうですが、私はクリームソースのペンネに挑戦します。クリーミーなパスタというのは食べたことがないからです。\n",
            "\n"
          ]
        },
        {
          "output_type": "stream",
          "name": "stderr",
          "text": [
            "Llama.generate: prefix-match hit\n"
          ]
        },
        {
          "output_type": "stream",
          "name": "stdout",
          "text": [
            "==============================\n",
            "Q. ある男性が、高校時代に好きだった女性に再会した。彼女は結婚して子供もいて幸せそうだった。男性は彼女に告白しようと思っていたが、その機会を逃してしまった。彼は後悔しながら、OOとつぶやいた。\n",
            "\n",
            "OOにはあることわざが入ります。何でしょう？\n",
            "A. 愛は永遠に\n",
            "\n"
          ]
        },
        {
          "output_type": "stream",
          "name": "stderr",
          "text": [
            "Llama.generate: prefix-match hit\n"
          ]
        },
        {
          "output_type": "stream",
          "name": "stdout",
          "text": [
            "==============================\n",
            "Q. 山田太郎は、宇宙軍の曹長だった。\n",
            "この文に現代として考えられない要素は含まれていますか？\n",
            "A. 山田太郎」「宇宙軍」「曹長」などの架空の単語がいくつかあるため、この文章はフィクションのようです。\n",
            "\n"
          ]
        },
        {
          "output_type": "stream",
          "name": "stderr",
          "text": [
            "Llama.generate: prefix-match hit\n"
          ]
        },
        {
          "output_type": "stream",
          "name": "stdout",
          "text": [
            "==============================\n",
            "Q. ナイジェリア、ロシア、エジプトの共通点は？\n",
            "A. 彼らはアフリカとヨーロッパの間に位置し、地理的に近い位置関係にあることです。\n",
            "\n"
          ]
        },
        {
          "output_type": "stream",
          "name": "stderr",
          "text": [
            "Llama.generate: prefix-match hit\n"
          ]
        },
        {
          "output_type": "stream",
          "name": "stdout",
          "text": [
            "==============================\n",
            "Q. 82歳の男性が24歳の友人と、ここ数十年で政治がどれだけ変わったかについて話していました。\n",
            "Q: 誰が政治の変化を批判しているのでしょうか？\n",
            "選択肢\n",
            "- 82歳の男性\n",
            "- 24歳の友人\n",
            "- 情報不足\n",
            "A. 1\n",
            "\n"
          ]
        },
        {
          "output_type": "stream",
          "name": "stderr",
          "text": [
            "Llama.generate: prefix-match hit\n"
          ]
        },
        {
          "output_type": "stream",
          "name": "stdout",
          "text": [
            "==============================\n",
            "Q. AさんとBさんは同じ会社で働いています。二人はそれぞれ、仕事でコンピューターを使う必要があることがあります。しかし、そのコンピュータはあまり高性能ではありません。二人が同時にログインすると、たいていクラッシュしてしまいます。そこで、会社は午前中はAさんだけ、午後はBさんだけがパソコンを使うことを許可すると宣言しました。翌日、AさんとBさんはどちらも寝坊して13時からコンピュータで仕事を始めました。そしてその日コンピュータはクラッシュしてしまいました。誰がコンピュータをクラッシュさせてしまったのでしょうか？\n",
            "A. 彼らはどちらも同時にログインしたため、AさんとBさんです。\n",
            "\n"
          ]
        },
        {
          "output_type": "stream",
          "name": "stderr",
          "text": [
            "Llama.generate: prefix-match hit\n"
          ]
        },
        {
          "output_type": "stream",
          "name": "stdout",
          "text": [
            "==============================\n",
            "Q. 次の文のうち、どちらがより意味が通じるでしょうか。\n",
            "選択肢1: 男が刑務所に行ったのは、ガソリンスタンドを襲ったからだ。\n",
            "選択肢2: 男がガソリンスタンドに強盗に入ったのは、刑務所に入ったからだ。\n",
            "A. The man went to jail because he robbed a gas station.\n",
            "\n"
          ]
        },
        {
          "output_type": "stream",
          "name": "stderr",
          "text": [
            "Llama.generate: prefix-match hit\n"
          ]
        },
        {
          "output_type": "stream",
          "name": "stdout",
          "text": [
            "==============================\n",
            "Q. 日本語では2つの漢字が組み合わさることで熟語となり、新しい意味を持ちます。\n",
            "新しく熟語を与えるので、その意味を想像してみてください。\n",
            "杯伝\n",
            "A. ビール\n",
            "\n"
          ]
        },
        {
          "output_type": "stream",
          "name": "stderr",
          "text": [
            "Llama.generate: prefix-match hit\n"
          ]
        },
        {
          "output_type": "stream",
          "name": "stdout",
          "text": [
            "==============================\n",
            "Q. 2つの文字列で連続した最長共通部分文字列の長さを求めよ。\n",
            "\n",
            "文字列1: あえおかささででした\n",
            "文字列2: ばつえおかさでくした\n",
            "A. 9\n",
            "\n"
          ]
        },
        {
          "output_type": "stream",
          "name": "stderr",
          "text": [
            "Llama.generate: prefix-match hit\n"
          ]
        },
        {
          "output_type": "stream",
          "name": "stdout",
          "text": [
            "==============================\n",
            "Q. 以下の例文はジョーク（皮肉）を言っていますか？\n",
            "そんなに落とし物をするなんて、今日は重力が強いのかな？\n",
            "A. そうです\n",
            "\n"
          ]
        },
        {
          "output_type": "stream",
          "name": "stderr",
          "text": [
            "Llama.generate: prefix-match hit\n"
          ]
        },
        {
          "output_type": "stream",
          "name": "stdout",
          "text": [
            "==============================\n",
            "Q. 木曜日の5日後は何曜日でしょう？\n",
            "A. 水曜日\n",
            "\n"
          ]
        },
        {
          "output_type": "stream",
          "name": "stderr",
          "text": [
            "Llama.generate: prefix-match hit\n"
          ]
        },
        {
          "output_type": "stream",
          "name": "stdout",
          "text": [
            "==============================\n",
            "Q. この文において「彼」が指すものは何でしょう？曖昧である場合は曖昧であると答えてください。\n",
            "男は重い病気に罹り、医者は余命を宣告した。彼の心情を考えると胸が苦しくなる。\n",
            "A. 不明\n",
            "\n"
          ]
        },
        {
          "output_type": "stream",
          "name": "stderr",
          "text": [
            "Llama.generate: prefix-match hit\n"
          ]
        },
        {
          "output_type": "stream",
          "name": "stdout",
          "text": [
            "==============================\n",
            "Q. 括弧が正しく閉じられるように、次の配列を完成させてください。\n",
            "[ < < { } > [ { [ ]  \n",
            "A. コードは、各括弧の後に適切な対称括弧と閉じる前にいくつかの空白文字を追加するために変更されましたが、元のテキストにあるようにそれらを保持します。\n",
            "\n"
          ]
        },
        {
          "output_type": "stream",
          "name": "stderr",
          "text": [
            "Llama.generate: prefix-match hit\n"
          ]
        },
        {
          "output_type": "stream",
          "name": "stdout",
          "text": [
            "==============================\n",
            "Q. 以下の文はある数式を自然言語で表したものです。元の数式を四則演算の数式として表してください。\n",
            "1を3で割った結果に33を足して、210を掛ける。最後に100で割る。\n",
            "A. 21.7\n",
            "\n"
          ]
        },
        {
          "output_type": "stream",
          "name": "stderr",
          "text": [
            "Llama.generate: prefix-match hit\n"
          ]
        },
        {
          "output_type": "stream",
          "name": "stdout",
          "text": [
            "==============================\n",
            "Q. ネットスラングでは、似た音を持つ別の短い表現に表されることがあります。例えばサーバーは鯖（さば）と表現されます。\n",
            "「消防 」というネットスラングはどのような意味を持つでしょうか？\n",
            "A. それは「ファイヤーウォール」を意味します\n",
            "\n"
          ]
        },
        {
          "output_type": "stream",
          "name": "stderr",
          "text": [
            "Llama.generate: prefix-match hit\n"
          ]
        },
        {
          "output_type": "stream",
          "name": "stdout",
          "text": [
            "==============================\n",
            "Q. 架空の言語「エクル語」と日本語の関係をいくつか示します。\n",
            "1.\n",
            "エクル語: ダスインガ ウタ\n",
            "日本語: 彼が水を飲む\n",
            "2.\n",
            "エクル語: ダストン ウタ\n",
            "日本語: 彼は水を運んだ\n",
            "3.\n",
            "エクル語: ダスデル\n",
            "日本語: 彼は走った\n",
            "4.\n",
            "エクル語: クルデル クルインガ ウタ\n",
            "日本語: 子供が走って水を飲んだ\n",
            "\n",
            "ここから推測して以下のエクル語を日本語に直してください。\n",
            "5.\n",
            "エクル語: クルデル クルトン\n",
            "A. 子は落ちた\n",
            "\n"
          ]
        },
        {
          "output_type": "stream",
          "name": "stderr",
          "text": [
            "Llama.generate: prefix-match hit\n"
          ]
        },
        {
          "output_type": "stream",
          "name": "stdout",
          "text": [
            "==============================\n",
            "Q. RGB(255, 0, 0)は赤色, RGB(255, 255, 255) は白色を表します。ではRGB(200, 200, 0)は何色でしょう？\n",
            "A. オレンジ\n",
            "\n"
          ]
        },
        {
          "output_type": "stream",
          "name": "stderr",
          "text": [
            "Llama.generate: prefix-match hit\n"
          ]
        },
        {
          "output_type": "stream",
          "name": "stdout",
          "text": [
            "==============================\n",
            "Q. あの、娘がやっているあのキ、チックトック？チックトッカー？っていうのは何なんですか？\n",
            "A. TikTokとは、短い動画を共有できるソーシャルメディアアプリケーションであり、しばしば音楽に合わせて踊ったりしています。\n",
            "\n"
          ]
        },
        {
          "output_type": "stream",
          "name": "stderr",
          "text": [
            "Llama.generate: prefix-match hit\n"
          ]
        },
        {
          "output_type": "stream",
          "name": "stdout",
          "text": [
            "==============================\n",
            "Q. 今日の夕方、東京タワーに行くことはできる？\n",
            "という問いに答えるのに十分な情報はどれですか？\n",
            "\n",
            "情報1: 今日は3/1(金)で、明日は祝日だ。\n",
            "情報2: 東京タワーの営業状況について: 新型コロナウイルス感染拡大防止の為、営業時間を変更致します。 平日は21時まで、祝日は19時までの短縮営業となります。\n",
            "\n",
            "選択肢:\n",
            "- 情報1のみで十分で、情報2のみでは不十分\n",
            "- 情報2のみで十分で、情報1のみでは不十分\n",
            "- 情報1と2の両方で十分\n",
            "- 情報1, 2のどちらかのみで十分\n",
            "- 情報1, 2のどちらでも不十分\n",
            "A. 5\n",
            "\n"
          ]
        },
        {
          "output_type": "stream",
          "name": "stderr",
          "text": [
            "Llama.generate: prefix-match hit\n"
          ]
        },
        {
          "output_type": "stream",
          "name": "stdout",
          "text": [
            "==============================\n",
            "Q. 以下の文章から、話者の推測や感想を除いた客観的な事実のみを抽出してください。\n",
            "\n",
            "今日は雨だから遠足は中止になるだろうな〜 お菓子を買ったから皆と食べようと思ってたのに残念\n",
            "A. 天気が悪いため、遠足が中止になる可能性があることを話者は示唆しています。\n",
            "\n"
          ]
        },
        {
          "output_type": "stream",
          "name": "stderr",
          "text": [
            "Llama.generate: prefix-match hit\n"
          ]
        },
        {
          "output_type": "stream",
          "name": "stdout",
          "text": [
            "==============================\n",
            "Q. あなたは救急隊員として働いていますが、実は不死身の救急隊員です。1000年前の戦場で初めて負傷兵を治療して以来、あなたは年を取らず、世界の発展を遠くから見守ってきました。\n",
            "Q: あなたは年々、シワが増えていますか？\n",
            "A. No\n",
            "\n"
          ]
        },
        {
          "output_type": "stream",
          "name": "stderr",
          "text": [
            "Llama.generate: prefix-match hit\n"
          ]
        },
        {
          "output_type": "stream",
          "name": "stdout",
          "text": [
            "==============================\n",
            "Q. 「必ず時間は守ります」葵と悠が手を繋いで歩き出すと、善吉は口調を荒げ「ふざけるな！娘をどうするつもりだ！」と捲し立てた。悠は「私は彼女を愛しています。私たちは結婚したんです。」と堂々と答えた。\n",
            "\n",
            "この文章において、善吉は悠にとっての何ですか？\n",
            "A. 父親\n",
            "\n"
          ]
        },
        {
          "output_type": "stream",
          "name": "stderr",
          "text": [
            "Llama.generate: prefix-match hit\n"
          ]
        },
        {
          "output_type": "stream",
          "name": "stdout",
          "text": [
            "==============================\n",
            "Q. 自動運転に懐疑的な太郎は、友人と「2030年以降、ほとんどの道路を自動運転車が走ることはないだろう」という賭けをした。  翌日、太郎は自動運転車のコンピュータ・ビジョン・システムに不可欠なライダー（LIDAR）技術に関する最新研究を紹介する会議に出席した。その後太郎は友人に賭けをなかったことにしないかと持ちかけた。 次のうち妥当なものを選んでください。\n",
            "選択肢:\n",
            "- 太郎はLIDARの会議で自動運転車の会社に投資した。\n",
            "- 太郎はまだ、自動運転車は今世紀中にうまくいかないと考えている。\n",
            "- 太郎は、LIDAR技術がうまくいかないことを示唆する何かを会議で学んだ。\n",
            "- 太郎は会議で自動運転技術の実現可能性に関する信念を変えなかった。\n",
            "- 太郎は会議で何かを学び、LIDAR技術に驚いた。\n",
            "A. 1\n",
            "\n"
          ]
        },
        {
          "output_type": "stream",
          "name": "stderr",
          "text": [
            "Llama.generate: prefix-match hit\n"
          ]
        },
        {
          "output_type": "stream",
          "name": "stdout",
          "text": [
            "==============================\n",
            "Q. 比喩を用いた文1が与えられます。文2が文1の正しい言い換えでしょうか？はいかいいえで答えてください。\n",
            "\n",
            "文1: この車はすごくガソリンを食う\n",
            "文2: この車は美味しそうにガソリンを食べる\n",
            "A. No\n",
            "\n"
          ]
        },
        {
          "output_type": "stream",
          "name": "stderr",
          "text": [
            "Llama.generate: prefix-match hit\n"
          ]
        },
        {
          "output_type": "stream",
          "name": "stdout",
          "text": [
            "==============================\n",
            "Q. 以下は2人での会話ですが、誰が何を言ったかは記されていません。\n",
            "\n",
            "まあ、そうですね。では今週はこれくらいにして、また来週の会議で話しましょう。え？来週は祝日だって？はい、勤労の日です。あーなるほど。来週の他の曜日はどうですか？ ちょっと来週はどこも埋まっちゃってますね。そうですか、では再来週にしましょう。\n",
            "\n",
            "ここで、「え？来週は祝日だって？」と「ちょっと来週はどこも埋まっちゃってますね。」は同じ人の発言ですか？\n",
            "A. No\n",
            "\n"
          ]
        },
        {
          "output_type": "stream",
          "name": "stderr",
          "text": [
            "Llama.generate: prefix-match hit\n"
          ]
        },
        {
          "output_type": "stream",
          "name": "stdout",
          "text": [
            "==============================\n",
            "Q. Bさんの発言は「はい」か「いいえ」で言い換えるとどちらですか？\n",
            "Aさん: 準備はできましたか?\n",
            "Bさん: 大丈夫です。\n",
            "\n",
            "また、Dさんの発言は「はい」か「いいえ」で言い換えるとどちらですか？\n",
            "Cさん: 手伝いましょうか？\n",
            "Dさん: 大丈夫です。\n",
            "A. bさん:yes dさん:no\n",
            "\n"
          ]
        },
        {
          "output_type": "stream",
          "name": "stderr",
          "text": [
            "Llama.generate: prefix-match hit\n"
          ]
        },
        {
          "output_type": "stream",
          "name": "stdout",
          "text": [
            "==============================\n",
            "Q. 次の指示に従った場合、あなたはスタート地点に戻っていますか？\n",
            "\n",
            "常に前を向いていてください。1歩下がって。2歩左へ行って。2歩下がって。6歩前進して。3歩、いや2歩右に進んで。\n",
            "A. あなたはあなたの出発点に戻っています。\n",
            "\n"
          ]
        },
        {
          "output_type": "stream",
          "name": "stderr",
          "text": [
            "Llama.generate: prefix-match hit\n"
          ]
        },
        {
          "output_type": "stream",
          "name": "stdout",
          "text": [
            "==============================\n",
            "Q. サマると8つということですね。\n",
            "上の文における「サマる」とはどのような意味でしょうか？\n",
            "A. それは「合計」という意味で、足し算すると、または、すべてを足すと、のようなニュアンスが含まれます。\n",
            "\n"
          ]
        },
        {
          "output_type": "stream",
          "name": "stderr",
          "text": [
            "Llama.generate: prefix-match hit\n"
          ]
        },
        {
          "output_type": "stream",
          "name": "stdout",
          "text": [
            "==============================\n",
            "Q. 下の表はペンギンについてまとめたものです。\n",
            "\n",
            "名前, 年齢(歳), 身長(cm), 体重(kg)\n",
            "ルイ, 7, 50, 11\n",
            "ベルナール, 5, 80, 13\n",
            "ヴィンセント, 9, 60, 11\n",
            "グエン, 8, 70, 15\n",
            "\n",
            "例えば、ルイの年齢は7歳、グエンの体重は15kg、ベルナールの身長は80cmです。\n",
            "\n",
            "Q: 一番老いているペンギンは誰ですか？\n",
            "A. ヴィンセント\n",
            "\n"
          ]
        },
        {
          "output_type": "stream",
          "name": "stderr",
          "text": [
            "Llama.generate: prefix-match hit\n"
          ]
        },
        {
          "output_type": "stream",
          "name": "stdout",
          "text": [
            "==============================\n",
            "Q. 次の文章では、どこかの時点である記事から別の記事へと変わります。あなたのタスクはこの境界を推測し、別の記事に変わった最初の文を記述することです。\n",
            "\n",
            "キャットフードの種類が多くて迷いますが、毎日の食事選びの基本は、栄養過不足にならないよう、「総合栄養食」で「ライフステージに合ったもの」を選ぶことです。\n",
            "基本は「総合栄養食」のドライフードとお水だけでOK\n",
            "キャットフードには、ドライフードとウェットフードがあります。ドライフード（通称カリカリ）のほとんどは「総合栄養食」なので、フードとお水だけで、猫ちゃんに必要な栄養素を摂取できます。\n",
            "猫は狩猟動物ですから、狩猟本能が満たされない欲求不満や運動不足も大きなストレス源となります。\n",
            "キャットタワーやキャットウォークなど、猫が運動しやすい環境を整えてあげたいですね。\n",
            "猫がストレスを感じると、便秘や下痢、食欲不振、過度なグルーミングといったストレスサインが現れます。時には皮膚炎や膀胱炎といった病気を引き起こす場合もあります。\n",
            "長期的なストレスは免疫の低下にも繋がるので、「たかがストレス」と思わずに早めに原因を取り除くようにしましょう。\n",
            "\n",
            "\n",
            "A. 「猫ちゃんに必要な栄養素を摂取できます。\n",
            "\n"
          ]
        },
        {
          "output_type": "stream",
          "name": "stderr",
          "text": [
            "Llama.generate: prefix-match hit\n"
          ]
        },
        {
          "output_type": "stream",
          "name": "stdout",
          "text": [
            "==============================\n",
            "Q. 昔はよく海に行っていたが、最近ではほとんど泳がない。\n",
            "上の文章を「滅多に」という言葉を使って言い換えてください。\n",
            "A. 以前はよく海で泳いだが、今はめったに泳がなくなった。\n",
            "\n"
          ]
        },
        {
          "output_type": "stream",
          "name": "stderr",
          "text": [
            "Llama.generate: prefix-match hit\n"
          ]
        },
        {
          "output_type": "stream",
          "name": "stdout",
          "text": [
            "==============================\n",
            "Q. Q：私の目は黒く、髪は明るい黄色で、足元はしっかりと地面に根ざしています。私は太陽の光を顔に浴びるのが好きです。私の正体は何でしょう？\n",
            "\n",
            "A. ヒマワリ\n",
            "\n"
          ]
        },
        {
          "output_type": "stream",
          "name": "stderr",
          "text": [
            "Llama.generate: prefix-match hit\n"
          ]
        },
        {
          "output_type": "stream",
          "name": "stdout",
          "text": [
            "==============================\n",
            "Q. 大喜利に挑戦してみましょう。大喜利とはお題に対して面白い回答を考える遊びです。大喜利のコツは色々とありますが、1つは「共感を呼ぶ答えをひとひねりする」ことです。誰もが経験したことや思ったことに対して、少し変わった視点や表現で回答することで、共感と笑いを誘うことができます。\n",
            "\n",
            "例えば、以下の例を見てみましょう\n",
            "\n",
            "お題: ナルシスト漁師の特徴を教えてください\n",
            "回答: キャッチ＆キス＆リリース\n",
            "\n",
            "このお題では、「普通の漁師の特徴」の「キャッチ＆リリース」に対して、ナルシストという観点からの捻りを加え、語感がいいようにまとめていて面白いです。\n",
            "\n",
            "それでは、以下のお題について大喜利で答えてください。\n",
            "お題：初めてドラゴンを退治しに行くのですが、アドバイスをお願いします\n",
            "A. このお題だと「普通のアドバイス」としては、ドラゴン対策や体力作りなどが考えられますね\n",
            "\n"
          ]
        },
        {
          "output_type": "stream",
          "name": "stderr",
          "text": [
            "Llama.generate: prefix-match hit\n"
          ]
        },
        {
          "output_type": "stream",
          "name": "stdout",
          "text": [
            "==============================\n",
            "Q. リンゴとバナナはどのように似ていますか？\n",
            "A. それらは果物です\n",
            "\n"
          ]
        },
        {
          "output_type": "stream",
          "name": "stderr",
          "text": [
            "Llama.generate: prefix-match hit\n"
          ]
        },
        {
          "output_type": "stream",
          "name": "stdout",
          "text": [
            "==============================\n",
            "Q. 仮説: 2人の男女が、赤い薔薇を眺めています。\n",
            "ある前提からこの仮説が導けるかを1~5で評価すると、3になります。どのような前提でしょうか？\n",
            "A. 3\n",
            "\n"
          ]
        },
        {
          "output_type": "stream",
          "name": "stderr",
          "text": [
            "Llama.generate: prefix-match hit\n"
          ]
        },
        {
          "output_type": "stream",
          "name": "stdout",
          "text": [
            "==============================\n",
            "Q. クイズを作ったのですが、選択肢が思いつきません。QとAを教えるので、それに相応しい選択肢を5つ作ってください。\n",
            "Q: 主に子ども向けのもので、イラストのついた物語が書かれているものはどれ？\n",
            "A: 絵本\n",
            "A. 漫画、アニメ、児童書、小説、紙芝居\n",
            "\n"
          ]
        },
        {
          "output_type": "stream",
          "name": "stderr",
          "text": [
            "Llama.generate: prefix-match hit\n"
          ]
        },
        {
          "output_type": "stream",
          "name": "stdout",
          "text": [
            "==============================\n",
            "Q. 和訳後の不自然な文が与えられます。自然な文に直してください。\n",
            "\n",
            "和文: 攻撃は驚きを持ってプレイヤーを取った、彼はゲームが終わって、彼の対戦相手が勝つだろうと言うので、彼はちょうど何を決めたのですか？\n",
            "A. この文章の意味がよくわかりません。\n",
            "\n"
          ]
        },
        {
          "output_type": "stream",
          "name": "stderr",
          "text": [
            "Llama.generate: prefix-match hit\n"
          ]
        },
        {
          "output_type": "stream",
          "name": "stdout",
          "text": [
            "==============================\n",
            "Q. ある生徒が記事の要約をしました。この要約をより良く直してください。\n",
            "\n",
            "記事:\n",
            "小売店や飲食店では、税抜き価格が強調されている一方で、税込み価格が小さく書かれているケースが比較的多く見受けられます。税抜き価格を強調する店が多いのはなぜでしょうか。考えられる理由について、教えてください。\n",
            "\n",
            "黒田さん「税抜き価格を強調することで、安く感じる顧客がいるため、結果として売り上げが伸びる可能性があることが考えられます。総額表示が義務付けられる前は、小売店や飲食店では、一般的に税抜き価格のみの表示が多かったです」\n",
            "\n",
            "では、税込み価格を強調した場合、売り上げに影響が出る可能性があるということでしょうか。\n",
            "\n",
            "黒田さん「影響はあると思います。次のような表示が『総額表示』として認められます。\n",
            "\n",
            "（1）1万1000円（税込）\n",
            "（2）1万1000円（うち消費税額等1000円）\n",
            "（3）1万円（税込価格1万1000円）\n",
            "\n",
            "これらの表記が並んでいた場合、（3）が目を引き、安く感じるのではないでしょうか。\n",
            "\n",
            "生徒の要約:\n",
            "小売店や飲食店では税込み価格が小さく書かれているケースが多いです。税込み価格を強調した場合、売り上げに影響が出る可能性があります。\n",
            "A. その要約で問題なさそうですね\n",
            "\n"
          ]
        },
        {
          "output_type": "stream",
          "name": "stderr",
          "text": [
            "Llama.generate: prefix-match hit\n"
          ]
        },
        {
          "output_type": "stream",
          "name": "stdout",
          "text": [
            "==============================\n",
            "Q. レンタルビデオ屋で「ブルーレイはありません」と言われました。この発言が暗に意味することは何でしょうか？\n",
            "A. おそらく、その人は、あなたが探している映画のコピーはないことを示唆しようとしたのだと思います。\n",
            "\n"
          ]
        },
        {
          "output_type": "stream",
          "name": "stderr",
          "text": [
            "Llama.generate: prefix-match hit\n"
          ]
        },
        {
          "output_type": "stream",
          "name": "stdout",
          "text": [
            "==============================\n",
            "Q. 次の言葉を順に全て使って、1つの文を書いてください\n",
            "\n",
            "全力、安全、活用、軽減\n",
            "A. 最大限の力で、安全かつ効果的な方法で問題を解決します!\n",
            "\n"
          ]
        },
        {
          "output_type": "stream",
          "name": "stderr",
          "text": [
            "Llama.generate: prefix-match hit\n"
          ]
        },
        {
          "output_type": "stream",
          "name": "stdout",
          "text": [
            "==============================\n",
            "Q. 次の検索クエリに最も相応しいページのタイトルを選んでください。\n",
            "\n",
            "検索クエリ: 竜のあごの下にある鱗のことで、目上の人を怒らせた時にここに触れると表現されるのは何でしょう?\n",
            "\n",
            "1. 竜の生態について\n",
            "2. 人を怒らせた時の対処方法\n",
            "3. 慣用表現一覧: 怒り・悲しみ\n",
            "A. 3\n",
            "\n"
          ]
        },
        {
          "output_type": "stream",
          "name": "stderr",
          "text": [
            "Llama.generate: prefix-match hit\n"
          ]
        },
        {
          "output_type": "stream",
          "name": "stdout",
          "text": [
            "==============================\n",
            "Q. あるQAのAをもとに、どんなQだったかを考えてください。\n",
            "A: ズボンとパンツは基本的に同じものを指し、現在明確な違いが定義されているわけではありません。 下着との区別をするためわざとズボンと表記している場合もあります。 間違いではないので、ズボンと呼んでもパンツと呼んでも問題ありません。 自由に呼びましょう。\n",
            "\n",
            "\n",
            "A. 「ズボンとパンツって何が違うの?」\n",
            "\n"
          ]
        },
        {
          "output_type": "stream",
          "name": "stderr",
          "text": [
            "Llama.generate: prefix-match hit\n"
          ]
        },
        {
          "output_type": "stream",
          "name": "stdout",
          "text": [
            "==============================\n",
            "Q. 「愛飲」を簡単な表現に言い換えて。\n",
            "A. 飲み物を好む\n",
            "\n"
          ]
        },
        {
          "output_type": "stream",
          "name": "stderr",
          "text": [
            "Llama.generate: prefix-match hit\n"
          ]
        },
        {
          "output_type": "stream",
          "name": "stdout",
          "text": [
            "==============================\n",
            "Q. 「会場に女性がいた。」という文は「どこに女性がいた？」という疑問文に直すことができます。\n",
            "このとき、 \"会場\" という単語は \"どこ\" という疑問詞タグを持ちます。疑問詞タグには いつ, どこ, だれ, なに, どれくらい があります。\n",
            "\n",
            "それでは、「ドライバー」という単語はどのような疑問詞タグを持つでしょうか？ 全て選んでください。対応するものがない場合は\"なし\"と答えてください。\n",
            "A. どれ\n",
            "\n"
          ]
        },
        {
          "output_type": "stream",
          "name": "stderr",
          "text": [
            "Llama.generate: prefix-match hit\n"
          ]
        },
        {
          "output_type": "stream",
          "name": "stdout",
          "text": [
            "==============================\n",
            "Q. マウスには (A) ネズミ, (B) 口, (C) コンピュータの入力機器 の3つの意味があります。下のそれぞれの選択肢ではどのような意味で使われているでしょうか？\n",
            "\n",
            "1. マウスウォッシュ\n",
            "2. マウスカーソル\n",
            "3. ミッキーマウス\n",
            "4. マウスパッド\n",
            "5. マウスピース\n",
            "6. マウスツーマウス法\n",
            "\n",
            "A. 答えは(A)、(B)、(C)の順に、「(A):口」、「(B):コンピュータ入力デバイス」、「(C):ネズミ」です。\n",
            "\n"
          ]
        },
        {
          "output_type": "stream",
          "name": "stderr",
          "text": [
            "Llama.generate: prefix-match hit\n"
          ]
        },
        {
          "output_type": "stream",
          "name": "stdout",
          "text": [
            "==============================\n",
            "Q. 1. 彼は比類のない陸上選手だ。\n",
            "2. 彼は比較的に良い陸上選手だ。\n",
            "\n",
            "1の文が難しいので2の文に直そうと思っているのですが、これってあってますか？\n",
            "\n",
            "A. こんにちは\n",
            "\n"
          ]
        },
        {
          "output_type": "stream",
          "name": "stderr",
          "text": [
            "Llama.generate: prefix-match hit\n"
          ]
        },
        {
          "output_type": "stream",
          "name": "stdout",
          "text": [
            "==============================\n",
            "Q. ティム: やあ、調子はどう？\n",
            "キム: いろいろやろうとしてたんだけど、また先延ばしにしちゃったよ。\n",
            "ティム: 何をしようとしていたの？\n",
            "キム: 大学の課題だよ。どうにもやる気が出なくてね。\n",
            "ティム: 集中できないなら、ポモドーロ・テクニックをするといいよ。\n",
            "キム: 何それ？\n",
            "ティム: 25分作業して、5分休憩するのを繰り返すんだよ。一回あたりの作業時間が短くて集中できるよ。\n",
            "キム: うーん、集中っていうわけじゃないんだよね\n",
            "ティム: じゃあ1日に5分だけでいいから机で課題をするっていうのはどう？\n",
            "キム: 5分じゃ何もできなくない？\n",
            "ティム: 短い時間でもいいから机で作業するっていうのがポイントなんだよ。むしろもっとやりたい、くらいで止めておくと毎日続くもっと長い時間できるようになるよ。\n",
            "キム: 確かにそれならできるかも。ありがとう！\n",
            "\n",
            "Q: キムは何をやってみようとしていますか？また何故それをやろうとしていますか？\n",
            "A. キムは、大学の課題をしようとしましたが、先延ばしにしてしまったと話しています。\n",
            "\n"
          ]
        },
        {
          "output_type": "stream",
          "name": "stderr",
          "text": [
            "Llama.generate: prefix-match hit\n"
          ]
        },
        {
          "output_type": "stream",
          "name": "stdout",
          "text": [
            "==============================\n",
            "Q. 「スキーストック 選び方」と検索しているユーザーが他に興味を持ちそうな検索クエリをいくつかあげてください。\n",
            "A. スキーストック、おすすめ\n",
            "スキー用品、初心者向け\n",
            "スノーボード、プロテクター\n",
            "\n"
          ]
        },
        {
          "output_type": "stream",
          "name": "stderr",
          "text": [
            "Llama.generate: prefix-match hit\n"
          ]
        },
        {
          "output_type": "stream",
          "name": "stdout",
          "text": [
            "==============================\n",
            "Q. youtubeの台本を書くのを手伝ってください。\n",
            "\n",
            "タローとコタローという2人のキャラクターの対話ベースで進行します。\n",
            "\n",
            "タローは物知りで、コタローの疑問に答えてくれます。\n",
            "\n",
            "今回の動画は、映画スラムダンクを視聴者に薦める動画です。以下のポイントを押さえた脚本にしてください。\n",
            "\n",
            "- まるでスポーツの試合を見ているかのように迫力のあるバスケのシーン\n",
            "- 漫画の原作を読んだことのない人でも楽しめる、映画として完結しているストーリー\n",
            "- 来月に公開が終了する\n",
            "- 10行~15行程度の対話\n",
            "A. 了解しました。\n",
            "\n"
          ]
        },
        {
          "output_type": "stream",
          "name": "stderr",
          "text": [
            "Llama.generate: prefix-match hit\n"
          ]
        },
        {
          "output_type": "stream",
          "name": "stdout",
          "text": [
            "==============================\n",
            "Q. あなたは以下の道具を持っています。これらの道具を必要なだけ使って、今日の昼ごはんを準備してください。\n",
            "\n",
            "チラシ: 宅配ピザならピザジャンボ！ S: 900円, M: 1200円, L: 1600円 電話番号も書いてある。\n",
            "鍵: 家の戸締りに使う\n",
            "携帯: 古いのでネット検索はできないが電話をするには十分\n",
            "ポイントカード: ラーメン屋のポイントカード\n",
            "財布: 1000円しか入っていない。\n",
            "A. まず、チラシのピザジャンボに電話して、宅配ピザのSサイズを注文しましょう。これで900円です。次に財布からお金を出して配達員に支払います。そして最後に、ポイントカードを使ってラーメン屋さんに行き、無料でラーメンを食べましょう。これが今日のランチプランだ。\n",
            "\n"
          ]
        },
        {
          "output_type": "stream",
          "name": "stderr",
          "text": [
            "Llama.generate: prefix-match hit\n"
          ]
        },
        {
          "output_type": "stream",
          "name": "stdout",
          "text": [
            "==============================\n",
            "Q. 以下のシチュエーションでの適切な発言をいくつか考えてください。\n",
            "シチュエーション: 誰かが無事に到着したとき\n",
            "A. 1.ご安全に!\n",
            "\n"
          ]
        },
        {
          "output_type": "stream",
          "name": "stderr",
          "text": [
            "Llama.generate: prefix-match hit\n"
          ]
        },
        {
          "output_type": "stream",
          "name": "stdout",
          "text": [
            "==============================\n",
            "Q. 新入社員のオンボーディングをしています。\n",
            "\n",
            "会社のメールアカウントなどのITセットアップは概ね完了して、社内のドキュメントも閲覧できる状態です。また新人研修なども実施し、業務の説明などをそこで行う予定です。\n",
            "\n",
            "他に何かすべきことはありますか？特に新入社員が早く馴染めるようにするにはどうしたら良いでしょうか\n",
            "A. 組織文化への適応を支援するために、メンターとしてペアを組むことも考えられます。これは、仕事やプロジェクトに対する新人の理解度を確認するだけでなく、会社全体に早く馴染むよう促す効果があります。また、チームメンバーの名前を覚えてもらったり、重要な関係者を紹介したり、関連部署とのミーティングを設定してもらうこともできます。\n",
            "新入社員への情報共有とサポートは、新人が新しい環境で成功できるようにするために不可欠です。\n",
            "\n"
          ]
        },
        {
          "output_type": "stream",
          "name": "stderr",
          "text": [
            "Llama.generate: prefix-match hit\n"
          ]
        },
        {
          "output_type": "stream",
          "name": "stdout",
          "text": [
            "==============================\n",
            "Q. 次のリストを昇順で並び替えて。出力は入力と同じフォーマットのリストのみを返し、余計なことを喋らないで。\n",
            "\n",
            "[10, 92, 2, 5, -4, 92, 5, 101]\n",
            "A. 正しい答えです\n",
            "\n"
          ]
        },
        {
          "output_type": "stream",
          "name": "stderr",
          "text": [
            "Llama.generate: prefix-match hit\n"
          ]
        },
        {
          "output_type": "stream",
          "name": "stdout",
          "text": [
            "==============================\n",
            "Q. あなたは古代エジプトの貴族です。冠位によって割り振られた土地について税を納めようとしています。しかし、ある土地についてどの貴族が所有しているかを知りません。以下はその土地の形状と特徴です。\n",
            "- 南北に細長い\n",
            "- ナイル川から東に離れている\n",
            "- 西側は岩山になっている\n",
            "この土地は誰が所有しているのでしょうか？\n",
            "A. わからない\n",
            "\n"
          ]
        },
        {
          "output_type": "stream",
          "name": "stderr",
          "text": [
            "Llama.generate: prefix-match hit\n"
          ]
        },
        {
          "output_type": "stream",
          "name": "stdout",
          "text": [
            "==============================\n",
            "Q. 「じまん」と「ほこり」、どちらの方がポジティブな意味を持っていますか？その理由も述べてください\n",
            "A. 誇示\n",
            "\n"
          ]
        },
        {
          "output_type": "stream",
          "name": "stderr",
          "text": [
            "Llama.generate: prefix-match hit\n"
          ]
        },
        {
          "output_type": "stream",
          "name": "stdout",
          "text": [
            "==============================\n",
            "Q. あなたは、小説の執筆者です。以下は小説の一文です。\n",
            "「風が強く吹いていた。」\n",
            "この文章に対して、どのような表現を追加することで、風の強さがより強く表現できるか、答えを書いてください。\n",
            "A. あなたは作家だから、その文章を使ってどんなふうに書けばいいかなんてわかりきっているはずです。\n",
            "\n"
          ]
        },
        {
          "output_type": "stream",
          "name": "stderr",
          "text": [
            "Llama.generate: prefix-match hit\n"
          ]
        },
        {
          "output_type": "stream",
          "name": "stdout",
          "text": [
            "==============================\n",
            "Q. 小説のセリフを書くことを手伝ってください。物語の中で、主人公は学校生活での人間関係に問題があります。彼には母親がいますが、母親は彼に良い大学に行ってほしいという気持ちからハードな勉強を押し付けてしまっています。\n",
            "\n",
            "ここで、最終的に主人公の気持ちを理解することができた母親のセリフを考えてください。\n",
            "\n",
            "A. こんにちは\n",
            "\n"
          ]
        },
        {
          "output_type": "stream",
          "name": "stderr",
          "text": [
            "Llama.generate: prefix-match hit\n"
          ]
        },
        {
          "output_type": "stream",
          "name": "stdout",
          "text": [
            "==============================\n",
            "Q. 「生き物デザイナー」という職業があります。これは、自分が考えたオリジナルの生き物をデザインし、実際にDNAを編集して作り出す仕事です。あなたが生き物デザイナーである場合、どんな生き物を作りたいですか？また、その生き物が持つ特徴や能力について説明してください。\n",
            "A. 例えば、火星探査用のロボット犬などはいかがでしょう。\n",
            "\n"
          ]
        },
        {
          "output_type": "stream",
          "name": "stderr",
          "text": [
            "Llama.generate: prefix-match hit\n"
          ]
        },
        {
          "output_type": "stream",
          "name": "stdout",
          "text": [
            "==============================\n",
            "Q. 犬が「ワンワン」ほえるなど、音や声を直接表す言葉を「擬音語」、星が「きらきら」光るなど、ものや人の様子を直接表す言葉を「擬態語」といいます。\n",
            "\n",
            "下の文を読み、擬音語・擬態語をそれぞれリストアップしてください。\n",
            "\n",
            "窓辺に座り、ぼんやりと外を見ていると、パラパラと雨が降り始めました。ビシャビシャと音を立てる雨に、私は何でもない場面にワクワクした気持ちを抱きました。\n",
            "A. 擬声語:パチパチ、ビシャビシャ\n",
            "擬態語:ワクワク\n",
            "\n"
          ]
        },
        {
          "output_type": "stream",
          "name": "stderr",
          "text": [
            "Llama.generate: prefix-match hit\n"
          ]
        },
        {
          "output_type": "stream",
          "name": "stdout",
          "text": [
            "==============================\n",
            "Q. 以下の文章について、筆者がどのような意図でこの文章を書いたか、あなたならどのように解釈しますか。\n",
            "\n",
            "彼はバブル期に大金持ちになり豊かな生活に日夜明け暮れたが、バブル崩壊後にほとんどの資産と職を失った。彼女に出会ったのは、そんな人生が真っ暗になってしまっていたときだった。彼は現在アルバイトで貧しいながらも生計を立てているが、それでも彼は今が一番豊かだと言っている。\n",
            "A. 「バブル崩壊後、ほとんどの資産と職を失った彼にとって、人生は暗闇の中だった。そのような状況下で彼女と出会い、彼は現在アルバイトの貧しい生活を送っているが、今が一番豊かだと言っている。この物語からは、彼の人生に対する楽観主義と前向きさを感じることができる。また、物質的な富よりも人間関係や愛が人生で重要であるという教訓を得ることができます。\n",
            "\n"
          ]
        },
        {
          "output_type": "stream",
          "name": "stderr",
          "text": [
            "Llama.generate: prefix-match hit\n"
          ]
        },
        {
          "output_type": "stream",
          "name": "stdout",
          "text": [
            "==============================\n",
            "Q. 花粉症の方々にとって、春は憂鬱な季節です。しかし、春には素敵な花や新緑もたくさんあります。そこで、花粉症でも春を楽しむコツを3つ考えてください。\n",
            "A. 春を楽しく過ごすためのアイデアをいくつか紹介しましょう!\n",
            "1.インドア・アクティビティを楽しむ - 屋内でヨガや瞑想をする。また、家の中でダンスパーティーを開いたり、ボードゲームをしてみる。\n",
            "2.屋外で過ごす時間を減らす - できるだけ室内にいて、花粉が飛ばないときだけ外に出ましょう。\n",
            "3.春の花々を楽しむ - お花見は花粉症持ちにも嬉しいイベントです。\n",
            "\n"
          ]
        },
        {
          "output_type": "stream",
          "name": "stderr",
          "text": [
            "Llama.generate: prefix-match hit\n"
          ]
        },
        {
          "output_type": "stream",
          "name": "stdout",
          "text": [
            "==============================\n",
            "Q. 漢字に対応する意味を選び、対応する数字とアルファベットのペアを解答してください。\n",
            "\n",
            "1. 立派　A. すばらしい\n",
            "2. 開拓　B. ある事柄について知っている内容。\n",
            "3. 知識　C. 物事に味わいや価値を加える\n",
            "4. 賞賛　D. 新しい領域を切り開く\n",
            "5. 味付け　E. 高い評価を与える\n",
            "A. A-1, B-2, C-3, D-4, E-5\n",
            "\n"
          ]
        },
        {
          "output_type": "stream",
          "name": "stderr",
          "text": [
            "Llama.generate: prefix-match hit\n"
          ]
        },
        {
          "output_type": "stream",
          "name": "stdout",
          "text": [
            "==============================\n",
            "Q. 次の物語の展開を予想してみましょう。\n",
            "\n",
            "ある日、主人公のもとに不思議な手紙が届きました。手紙には「今夜の満月に、森の奥深くにある洞窟に来てください。あなたを待っています。」と書かれていました。主人公はその手紙に従い、夜中に洞窟の入り口にたどり着きました。中に入ると、謎めいた人物と出会い……。\n",
            "A. それで、何が起こるんですか?\n",
            "\n"
          ]
        },
        {
          "output_type": "stream",
          "name": "stderr",
          "text": [
            "Llama.generate: prefix-match hit\n"
          ]
        },
        {
          "output_type": "stream",
          "name": "stdout",
          "text": [
            "==============================\n",
            "Q. 次の文は1つの物語の文の順番をシャッフルしたものです。適切な順に並び替えてください。\n",
            "\n",
            "1. 「果物だけではなく、人生も同じです。協力しなくては、全てをこなすことはできません。」\n",
            "2. 老人は、広い畑で色々な果物を育てていました。\n",
            "3. ある日、孫が老人に『こんなに広い畑で、全ての果物を一人で育てるのは大変そうですね』と尋ねました。\n",
            "4. 昔、あるところに老人と孫がいました。\n",
            "5. 老人は微笑みながら次のように答えました。\n",
            "\n",
            "A. 4,2,3,1,5\n",
            "\n"
          ]
        }
      ],
      "source": [
        "import jsonlines\n",
        "\n",
        "def generate_text_with_llama(input_text):\n",
        "    # Create a chat completion using the Llama object\n",
        "    prompt = (\n",
        "         \"以下に、あるタスクを説明する指示があります。\"\n",
        "         \"リクエストを適切に完了するための回答を記述してください。\\n\\n\"\n",
        "        f\"### 指示:\\n{input_text}\\n\\n### 応答:\"\n",
        "    )\n",
        "    output = llm(\n",
        "        prompt,\n",
        "        temperature=0.99,\n",
        "        top_p=0.95,\n",
        "        echo=False,\n",
        "        stop=[\"</s>\"],\n",
        "        seed=42,\n",
        "        max_tokens=1024,\n",
        "    )\n",
        "    return output[\"choices\"][0][\"text\"]\n",
        "\n",
        "def process_dataset(input_file, output_file):\n",
        "    # Read dataset and generate predictions\n",
        "    with jsonlines.open(input_file) as reader, jsonlines.open(output_file, mode='w') as writer:\n",
        "        for obj in reader:\n",
        "            prompt = obj['input_text']\n",
        "            generated_text = generate_text_with_llama(prompt)\n",
        "\n",
        "            print(f\"==============================\")\n",
        "            print(f\"Q. {prompt}\")\n",
        "            print(f\"A. {generated_text}\")\n",
        "            print(f\"\")\n",
        "\n",
        "            writer.write({\"pred\": generated_text})\n",
        "\n",
        "# Process the dataset\n",
        "input_dataset = '/content/dataset.jsonl'\n",
        "output_predictions = '/content/preds.jsonl'\n",
        "process_dataset(input_dataset, output_predictions)\n"
      ]
    }
  ],
  "metadata": {
    "accelerator": "GPU",
    "colab": {
      "machine_shape": "hm",
      "provenance": []
    },
    "kernelspec": {
      "display_name": "Python 3",
      "name": "python3"
    },
    "language_info": {
      "name": "python"
    },
    "widgets": {
      "application/vnd.jupyter.widget-state+json": {
        "0064ef7844f54083898ad81ea8f4cc67": {
          "model_module": "@jupyter-widgets/controls",
          "model_module_version": "1.5.0",
          "model_name": "DescriptionStyleModel",
          "state": {
            "_model_module": "@jupyter-widgets/controls",
            "_model_module_version": "1.5.0",
            "_model_name": "DescriptionStyleModel",
            "_view_count": null,
            "_view_module": "@jupyter-widgets/base",
            "_view_module_version": "1.2.0",
            "_view_name": "StyleView",
            "description_width": ""
          }
        },
        "01bb8ab8aa2748ce8d7a833530db8100": {
          "model_module": "@jupyter-widgets/base",
          "model_module_version": "1.2.0",
          "model_name": "LayoutModel",
          "state": {
            "_model_module": "@jupyter-widgets/base",
            "_model_module_version": "1.2.0",
            "_model_name": "LayoutModel",
            "_view_count": null,
            "_view_module": "@jupyter-widgets/base",
            "_view_module_version": "1.2.0",
            "_view_name": "LayoutView",
            "align_content": null,
            "align_items": null,
            "align_self": null,
            "border": null,
            "bottom": null,
            "display": null,
            "flex": null,
            "flex_flow": null,
            "grid_area": null,
            "grid_auto_columns": null,
            "grid_auto_flow": null,
            "grid_auto_rows": null,
            "grid_column": null,
            "grid_gap": null,
            "grid_row": null,
            "grid_template_areas": null,
            "grid_template_columns": null,
            "grid_template_rows": null,
            "height": null,
            "justify_content": null,
            "justify_items": null,
            "left": null,
            "margin": null,
            "max_height": null,
            "max_width": null,
            "min_height": null,
            "min_width": null,
            "object_fit": null,
            "object_position": null,
            "order": null,
            "overflow": null,
            "overflow_x": null,
            "overflow_y": null,
            "padding": null,
            "right": null,
            "top": null,
            "visibility": null,
            "width": null
          }
        },
        "0550275dbe9b4733946c84b24b1db344": {
          "model_module": "@jupyter-widgets/controls",
          "model_module_version": "1.5.0",
          "model_name": "HTMLModel",
          "state": {
            "_dom_classes": [],
            "_model_module": "@jupyter-widgets/controls",
            "_model_module_version": "1.5.0",
            "_model_name": "HTMLModel",
            "_view_count": null,
            "_view_module": "@jupyter-widgets/controls",
            "_view_module_version": "1.5.0",
            "_view_name": "HTMLView",
            "description": "",
            "description_tooltip": null,
            "layout": "IPY_MODEL_da66856444e447e6ac92c183df2bc212",
            "placeholder": "​",
            "style": "IPY_MODEL_6f11cdab0e56448eb17dabb123cc26bb",
            "value": " 115k/115k [00:00&lt;00:00, 413kB/s]"
          }
        },
        "1049181a572c4b379ae8b58cfb02aaa2": {
          "model_module": "@jupyter-widgets/base",
          "model_module_version": "1.2.0",
          "model_name": "LayoutModel",
          "state": {
            "_model_module": "@jupyter-widgets/base",
            "_model_module_version": "1.2.0",
            "_model_name": "LayoutModel",
            "_view_count": null,
            "_view_module": "@jupyter-widgets/base",
            "_view_module_version": "1.2.0",
            "_view_name": "LayoutView",
            "align_content": null,
            "align_items": null,
            "align_self": null,
            "border": null,
            "bottom": null,
            "display": null,
            "flex": null,
            "flex_flow": null,
            "grid_area": null,
            "grid_auto_columns": null,
            "grid_auto_flow": null,
            "grid_auto_rows": null,
            "grid_column": null,
            "grid_gap": null,
            "grid_row": null,
            "grid_template_areas": null,
            "grid_template_columns": null,
            "grid_template_rows": null,
            "height": null,
            "justify_content": null,
            "justify_items": null,
            "left": null,
            "margin": null,
            "max_height": null,
            "max_width": null,
            "min_height": null,
            "min_width": null,
            "object_fit": null,
            "object_position": null,
            "order": null,
            "overflow": null,
            "overflow_x": null,
            "overflow_y": null,
            "padding": null,
            "right": null,
            "top": null,
            "visibility": null,
            "width": null
          }
        },
        "14c3f58aa1434d868fbb31dcf161a40d": {
          "model_module": "@jupyter-widgets/controls",
          "model_module_version": "1.5.0",
          "model_name": "FloatProgressModel",
          "state": {
            "_dom_classes": [],
            "_model_module": "@jupyter-widgets/controls",
            "_model_module_version": "1.5.0",
            "_model_name": "FloatProgressModel",
            "_view_count": null,
            "_view_module": "@jupyter-widgets/controls",
            "_view_module_version": "1.5.0",
            "_view_name": "ProgressView",
            "bar_style": "success",
            "description": "",
            "description_tooltip": null,
            "layout": "IPY_MODEL_6e3beac5d9fd4f568e2673280af9eb78",
            "max": 115490,
            "min": 0,
            "orientation": "horizontal",
            "style": "IPY_MODEL_5092cc9fc12043a5a16fcaa26cfe9d1a",
            "value": 115490
          }
        },
        "22f28c3b1b21418e9e999225f70f35ce": {
          "model_module": "@jupyter-widgets/controls",
          "model_module_version": "1.5.0",
          "model_name": "HTMLModel",
          "state": {
            "_dom_classes": [],
            "_model_module": "@jupyter-widgets/controls",
            "_model_module_version": "1.5.0",
            "_model_name": "HTMLModel",
            "_view_count": null,
            "_view_module": "@jupyter-widgets/controls",
            "_view_module_version": "1.5.0",
            "_view_name": "HTMLView",
            "description": "",
            "description_tooltip": null,
            "layout": "IPY_MODEL_fdc7663d4f814d7f9632316f916c0131",
            "placeholder": "​",
            "style": "IPY_MODEL_62faee8d8f454208a427cc20c67904c8",
            "value": " 1/1 [00:00&lt;00:00,  3.35it/s]"
          }
        },
        "29e323d704b945b895eb2855fc107845": {
          "model_module": "@jupyter-widgets/controls",
          "model_module_version": "1.5.0",
          "model_name": "HTMLModel",
          "state": {
            "_dom_classes": [],
            "_model_module": "@jupyter-widgets/controls",
            "_model_module_version": "1.5.0",
            "_model_name": "HTMLModel",
            "_view_count": null,
            "_view_module": "@jupyter-widgets/controls",
            "_view_module_version": "1.5.0",
            "_view_name": "HTMLView",
            "description": "",
            "description_tooltip": null,
            "layout": "IPY_MODEL_1049181a572c4b379ae8b58cfb02aaa2",
            "placeholder": "​",
            "style": "IPY_MODEL_f93d51599c654fa89a96f2b1334f64e2",
            "value": " 8.37k/8.37k [00:00&lt;00:00, 569kB/s]"
          }
        },
        "2efc5c08d5da43ff89ed6e9fdc6d68cc": {
          "model_module": "@jupyter-widgets/base",
          "model_module_version": "1.2.0",
          "model_name": "LayoutModel",
          "state": {
            "_model_module": "@jupyter-widgets/base",
            "_model_module_version": "1.2.0",
            "_model_name": "LayoutModel",
            "_view_count": null,
            "_view_module": "@jupyter-widgets/base",
            "_view_module_version": "1.2.0",
            "_view_name": "LayoutView",
            "align_content": null,
            "align_items": null,
            "align_self": null,
            "border": null,
            "bottom": null,
            "display": null,
            "flex": null,
            "flex_flow": null,
            "grid_area": null,
            "grid_auto_columns": null,
            "grid_auto_flow": null,
            "grid_auto_rows": null,
            "grid_column": null,
            "grid_gap": null,
            "grid_row": null,
            "grid_template_areas": null,
            "grid_template_columns": null,
            "grid_template_rows": null,
            "height": null,
            "justify_content": null,
            "justify_items": null,
            "left": null,
            "margin": null,
            "max_height": null,
            "max_width": null,
            "min_height": null,
            "min_width": null,
            "object_fit": null,
            "object_position": null,
            "order": null,
            "overflow": null,
            "overflow_x": null,
            "overflow_y": null,
            "padding": null,
            "right": null,
            "top": null,
            "visibility": null,
            "width": null
          }
        },
        "2f6083b9531248969a9dc8fba58f59b4": {
          "model_module": "@jupyter-widgets/base",
          "model_module_version": "1.2.0",
          "model_name": "LayoutModel",
          "state": {
            "_model_module": "@jupyter-widgets/base",
            "_model_module_version": "1.2.0",
            "_model_name": "LayoutModel",
            "_view_count": null,
            "_view_module": "@jupyter-widgets/base",
            "_view_module_version": "1.2.0",
            "_view_name": "LayoutView",
            "align_content": null,
            "align_items": null,
            "align_self": null,
            "border": null,
            "bottom": null,
            "display": null,
            "flex": null,
            "flex_flow": null,
            "grid_area": null,
            "grid_auto_columns": null,
            "grid_auto_flow": null,
            "grid_auto_rows": null,
            "grid_column": null,
            "grid_gap": null,
            "grid_row": null,
            "grid_template_areas": null,
            "grid_template_columns": null,
            "grid_template_rows": null,
            "height": null,
            "justify_content": null,
            "justify_items": null,
            "left": null,
            "margin": null,
            "max_height": null,
            "max_width": null,
            "min_height": null,
            "min_width": null,
            "object_fit": null,
            "object_position": null,
            "order": null,
            "overflow": null,
            "overflow_x": null,
            "overflow_y": null,
            "padding": null,
            "right": null,
            "top": null,
            "visibility": null,
            "width": null
          }
        },
        "308e14f6d0ef448686c0410ac028902b": {
          "model_module": "@jupyter-widgets/base",
          "model_module_version": "1.2.0",
          "model_name": "LayoutModel",
          "state": {
            "_model_module": "@jupyter-widgets/base",
            "_model_module_version": "1.2.0",
            "_model_name": "LayoutModel",
            "_view_count": null,
            "_view_module": "@jupyter-widgets/base",
            "_view_module_version": "1.2.0",
            "_view_name": "LayoutView",
            "align_content": null,
            "align_items": null,
            "align_self": null,
            "border": null,
            "bottom": null,
            "display": null,
            "flex": null,
            "flex_flow": null,
            "grid_area": null,
            "grid_auto_columns": null,
            "grid_auto_flow": null,
            "grid_auto_rows": null,
            "grid_column": null,
            "grid_gap": null,
            "grid_row": null,
            "grid_template_areas": null,
            "grid_template_columns": null,
            "grid_template_rows": null,
            "height": null,
            "justify_content": null,
            "justify_items": null,
            "left": null,
            "margin": null,
            "max_height": null,
            "max_width": null,
            "min_height": null,
            "min_width": null,
            "object_fit": null,
            "object_position": null,
            "order": null,
            "overflow": null,
            "overflow_x": null,
            "overflow_y": null,
            "padding": null,
            "right": null,
            "top": null,
            "visibility": null,
            "width": null
          }
        },
        "3226224b6a874315be75acdcef31006f": {
          "model_module": "@jupyter-widgets/base",
          "model_module_version": "1.2.0",
          "model_name": "LayoutModel",
          "state": {
            "_model_module": "@jupyter-widgets/base",
            "_model_module_version": "1.2.0",
            "_model_name": "LayoutModel",
            "_view_count": null,
            "_view_module": "@jupyter-widgets/base",
            "_view_module_version": "1.2.0",
            "_view_name": "LayoutView",
            "align_content": null,
            "align_items": null,
            "align_self": null,
            "border": null,
            "bottom": null,
            "display": null,
            "flex": null,
            "flex_flow": null,
            "grid_area": null,
            "grid_auto_columns": null,
            "grid_auto_flow": null,
            "grid_auto_rows": null,
            "grid_column": null,
            "grid_gap": null,
            "grid_row": null,
            "grid_template_areas": null,
            "grid_template_columns": null,
            "grid_template_rows": null,
            "height": null,
            "justify_content": null,
            "justify_items": null,
            "left": null,
            "margin": null,
            "max_height": null,
            "max_width": null,
            "min_height": null,
            "min_width": null,
            "object_fit": null,
            "object_position": null,
            "order": null,
            "overflow": null,
            "overflow_x": null,
            "overflow_y": null,
            "padding": null,
            "right": null,
            "top": null,
            "visibility": null,
            "width": null
          }
        },
        "360ae49c8d4942e38402a41d91c4d093": {
          "model_module": "@jupyter-widgets/base",
          "model_module_version": "1.2.0",
          "model_name": "LayoutModel",
          "state": {
            "_model_module": "@jupyter-widgets/base",
            "_model_module_version": "1.2.0",
            "_model_name": "LayoutModel",
            "_view_count": null,
            "_view_module": "@jupyter-widgets/base",
            "_view_module_version": "1.2.0",
            "_view_name": "LayoutView",
            "align_content": null,
            "align_items": null,
            "align_self": null,
            "border": null,
            "bottom": null,
            "display": null,
            "flex": null,
            "flex_flow": null,
            "grid_area": null,
            "grid_auto_columns": null,
            "grid_auto_flow": null,
            "grid_auto_rows": null,
            "grid_column": null,
            "grid_gap": null,
            "grid_row": null,
            "grid_template_areas": null,
            "grid_template_columns": null,
            "grid_template_rows": null,
            "height": null,
            "justify_content": null,
            "justify_items": null,
            "left": null,
            "margin": null,
            "max_height": null,
            "max_width": null,
            "min_height": null,
            "min_width": null,
            "object_fit": null,
            "object_position": null,
            "order": null,
            "overflow": null,
            "overflow_x": null,
            "overflow_y": null,
            "padding": null,
            "right": null,
            "top": null,
            "visibility": null,
            "width": null
          }
        },
        "3bca5fd0d8b040c28d0fb88aeb48e80a": {
          "model_module": "@jupyter-widgets/controls",
          "model_module_version": "1.5.0",
          "model_name": "DescriptionStyleModel",
          "state": {
            "_model_module": "@jupyter-widgets/controls",
            "_model_module_version": "1.5.0",
            "_model_name": "DescriptionStyleModel",
            "_view_count": null,
            "_view_module": "@jupyter-widgets/base",
            "_view_module_version": "1.2.0",
            "_view_name": "StyleView",
            "description_width": ""
          }
        },
        "423c2226d34149129bac6b0201532131": {
          "model_module": "@jupyter-widgets/controls",
          "model_module_version": "1.5.0",
          "model_name": "ProgressStyleModel",
          "state": {
            "_model_module": "@jupyter-widgets/controls",
            "_model_module_version": "1.5.0",
            "_model_name": "ProgressStyleModel",
            "_view_count": null,
            "_view_module": "@jupyter-widgets/base",
            "_view_module_version": "1.2.0",
            "_view_name": "StyleView",
            "bar_color": null,
            "description_width": ""
          }
        },
        "43440246da584f269bd811f7d9bd1c7a": {
          "model_module": "@jupyter-widgets/controls",
          "model_module_version": "1.5.0",
          "model_name": "HTMLModel",
          "state": {
            "_dom_classes": [],
            "_model_module": "@jupyter-widgets/controls",
            "_model_module_version": "1.5.0",
            "_model_name": "HTMLModel",
            "_view_count": null,
            "_view_module": "@jupyter-widgets/controls",
            "_view_module_version": "1.5.0",
            "_view_name": "HTMLView",
            "description": "",
            "description_tooltip": null,
            "layout": "IPY_MODEL_360ae49c8d4942e38402a41d91c4d093",
            "placeholder": "​",
            "style": "IPY_MODEL_ad5a9b6dc88f46feb776badefa08be5b",
            "value": "Generating test split: "
          }
        },
        "43b84c6bcd4848aaaf0a38d9d52b4815": {
          "model_module": "@jupyter-widgets/controls",
          "model_module_version": "1.5.0",
          "model_name": "DescriptionStyleModel",
          "state": {
            "_model_module": "@jupyter-widgets/controls",
            "_model_module_version": "1.5.0",
            "_model_name": "DescriptionStyleModel",
            "_view_count": null,
            "_view_module": "@jupyter-widgets/base",
            "_view_module_version": "1.2.0",
            "_view_name": "StyleView",
            "description_width": ""
          }
        },
        "452454e25da540c791812055046f81fb": {
          "model_module": "@jupyter-widgets/controls",
          "model_module_version": "1.5.0",
          "model_name": "HTMLModel",
          "state": {
            "_dom_classes": [],
            "_model_module": "@jupyter-widgets/controls",
            "_model_module_version": "1.5.0",
            "_model_name": "HTMLModel",
            "_view_count": null,
            "_view_module": "@jupyter-widgets/controls",
            "_view_module_version": "1.5.0",
            "_view_name": "HTMLView",
            "description": "",
            "description_tooltip": null,
            "layout": "IPY_MODEL_b376c253b9cc4bce8bb6c2f5cac5947e",
            "placeholder": "​",
            "style": "IPY_MODEL_df1fbd09ea104ecab2f8d81b743f4db1",
            "value": " 100/0 [00:00&lt;00:00, 1687.20 examples/s]"
          }
        },
        "48ca19e09343421d98cce3f8dacfbb8f": {
          "model_module": "@jupyter-widgets/base",
          "model_module_version": "1.2.0",
          "model_name": "LayoutModel",
          "state": {
            "_model_module": "@jupyter-widgets/base",
            "_model_module_version": "1.2.0",
            "_model_name": "LayoutModel",
            "_view_count": null,
            "_view_module": "@jupyter-widgets/base",
            "_view_module_version": "1.2.0",
            "_view_name": "LayoutView",
            "align_content": null,
            "align_items": null,
            "align_self": null,
            "border": null,
            "bottom": null,
            "display": null,
            "flex": null,
            "flex_flow": null,
            "grid_area": null,
            "grid_auto_columns": null,
            "grid_auto_flow": null,
            "grid_auto_rows": null,
            "grid_column": null,
            "grid_gap": null,
            "grid_row": null,
            "grid_template_areas": null,
            "grid_template_columns": null,
            "grid_template_rows": null,
            "height": null,
            "justify_content": null,
            "justify_items": null,
            "left": null,
            "margin": null,
            "max_height": null,
            "max_width": null,
            "min_height": null,
            "min_width": null,
            "object_fit": null,
            "object_position": null,
            "order": null,
            "overflow": null,
            "overflow_x": null,
            "overflow_y": null,
            "padding": null,
            "right": null,
            "top": null,
            "visibility": null,
            "width": null
          }
        },
        "4c3c0756dd4f45d590b6a639819cfc58": {
          "model_module": "@jupyter-widgets/controls",
          "model_module_version": "1.5.0",
          "model_name": "DescriptionStyleModel",
          "state": {
            "_model_module": "@jupyter-widgets/controls",
            "_model_module_version": "1.5.0",
            "_model_name": "DescriptionStyleModel",
            "_view_count": null,
            "_view_module": "@jupyter-widgets/base",
            "_view_module_version": "1.2.0",
            "_view_name": "StyleView",
            "description_width": ""
          }
        },
        "5092cc9fc12043a5a16fcaa26cfe9d1a": {
          "model_module": "@jupyter-widgets/controls",
          "model_module_version": "1.5.0",
          "model_name": "ProgressStyleModel",
          "state": {
            "_model_module": "@jupyter-widgets/controls",
            "_model_module_version": "1.5.0",
            "_model_name": "ProgressStyleModel",
            "_view_count": null,
            "_view_module": "@jupyter-widgets/base",
            "_view_module_version": "1.2.0",
            "_view_name": "StyleView",
            "bar_color": null,
            "description_width": ""
          }
        },
        "54fc47942ffe454d894ffc8637a3e82f": {
          "model_module": "@jupyter-widgets/controls",
          "model_module_version": "1.5.0",
          "model_name": "FloatProgressModel",
          "state": {
            "_dom_classes": [],
            "_model_module": "@jupyter-widgets/controls",
            "_model_module_version": "1.5.0",
            "_model_name": "FloatProgressModel",
            "_view_count": null,
            "_view_module": "@jupyter-widgets/controls",
            "_view_module_version": "1.5.0",
            "_view_name": "ProgressView",
            "bar_style": "success",
            "description": "",
            "description_tooltip": null,
            "layout": "IPY_MODEL_aec0c3fd8a2f4b7d888f839c7854495d",
            "max": 1,
            "min": 0,
            "orientation": "horizontal",
            "style": "IPY_MODEL_641813822e714f2cb0ed9334ef381d72",
            "value": 1
          }
        },
        "62faee8d8f454208a427cc20c67904c8": {
          "model_module": "@jupyter-widgets/controls",
          "model_module_version": "1.5.0",
          "model_name": "DescriptionStyleModel",
          "state": {
            "_model_module": "@jupyter-widgets/controls",
            "_model_module_version": "1.5.0",
            "_model_name": "DescriptionStyleModel",
            "_view_count": null,
            "_view_module": "@jupyter-widgets/base",
            "_view_module_version": "1.2.0",
            "_view_name": "StyleView",
            "description_width": ""
          }
        },
        "641813822e714f2cb0ed9334ef381d72": {
          "model_module": "@jupyter-widgets/controls",
          "model_module_version": "1.5.0",
          "model_name": "ProgressStyleModel",
          "state": {
            "_model_module": "@jupyter-widgets/controls",
            "_model_module_version": "1.5.0",
            "_model_name": "ProgressStyleModel",
            "_view_count": null,
            "_view_module": "@jupyter-widgets/base",
            "_view_module_version": "1.2.0",
            "_view_name": "StyleView",
            "bar_color": null,
            "description_width": ""
          }
        },
        "6e3beac5d9fd4f568e2673280af9eb78": {
          "model_module": "@jupyter-widgets/base",
          "model_module_version": "1.2.0",
          "model_name": "LayoutModel",
          "state": {
            "_model_module": "@jupyter-widgets/base",
            "_model_module_version": "1.2.0",
            "_model_name": "LayoutModel",
            "_view_count": null,
            "_view_module": "@jupyter-widgets/base",
            "_view_module_version": "1.2.0",
            "_view_name": "LayoutView",
            "align_content": null,
            "align_items": null,
            "align_self": null,
            "border": null,
            "bottom": null,
            "display": null,
            "flex": null,
            "flex_flow": null,
            "grid_area": null,
            "grid_auto_columns": null,
            "grid_auto_flow": null,
            "grid_auto_rows": null,
            "grid_column": null,
            "grid_gap": null,
            "grid_row": null,
            "grid_template_areas": null,
            "grid_template_columns": null,
            "grid_template_rows": null,
            "height": null,
            "justify_content": null,
            "justify_items": null,
            "left": null,
            "margin": null,
            "max_height": null,
            "max_width": null,
            "min_height": null,
            "min_width": null,
            "object_fit": null,
            "object_position": null,
            "order": null,
            "overflow": null,
            "overflow_x": null,
            "overflow_y": null,
            "padding": null,
            "right": null,
            "top": null,
            "visibility": null,
            "width": null
          }
        },
        "6f11cdab0e56448eb17dabb123cc26bb": {
          "model_module": "@jupyter-widgets/controls",
          "model_module_version": "1.5.0",
          "model_name": "DescriptionStyleModel",
          "state": {
            "_model_module": "@jupyter-widgets/controls",
            "_model_module_version": "1.5.0",
            "_model_name": "DescriptionStyleModel",
            "_view_count": null,
            "_view_module": "@jupyter-widgets/base",
            "_view_module_version": "1.2.0",
            "_view_name": "StyleView",
            "description_width": ""
          }
        },
        "76bf0db5634341fd8ad4c8a38a34665c": {
          "model_module": "@jupyter-widgets/base",
          "model_module_version": "1.2.0",
          "model_name": "LayoutModel",
          "state": {
            "_model_module": "@jupyter-widgets/base",
            "_model_module_version": "1.2.0",
            "_model_name": "LayoutModel",
            "_view_count": null,
            "_view_module": "@jupyter-widgets/base",
            "_view_module_version": "1.2.0",
            "_view_name": "LayoutView",
            "align_content": null,
            "align_items": null,
            "align_self": null,
            "border": null,
            "bottom": null,
            "display": null,
            "flex": null,
            "flex_flow": null,
            "grid_area": null,
            "grid_auto_columns": null,
            "grid_auto_flow": null,
            "grid_auto_rows": null,
            "grid_column": null,
            "grid_gap": null,
            "grid_row": null,
            "grid_template_areas": null,
            "grid_template_columns": null,
            "grid_template_rows": null,
            "height": null,
            "justify_content": null,
            "justify_items": null,
            "left": null,
            "margin": null,
            "max_height": null,
            "max_width": null,
            "min_height": null,
            "min_width": null,
            "object_fit": null,
            "object_position": null,
            "order": null,
            "overflow": null,
            "overflow_x": null,
            "overflow_y": null,
            "padding": null,
            "right": null,
            "top": null,
            "visibility": null,
            "width": null
          }
        },
        "77d6bbdb626544daa33969f9ab55691f": {
          "model_module": "@jupyter-widgets/base",
          "model_module_version": "1.2.0",
          "model_name": "LayoutModel",
          "state": {
            "_model_module": "@jupyter-widgets/base",
            "_model_module_version": "1.2.0",
            "_model_name": "LayoutModel",
            "_view_count": null,
            "_view_module": "@jupyter-widgets/base",
            "_view_module_version": "1.2.0",
            "_view_name": "LayoutView",
            "align_content": null,
            "align_items": null,
            "align_self": null,
            "border": null,
            "bottom": null,
            "display": null,
            "flex": null,
            "flex_flow": null,
            "grid_area": null,
            "grid_auto_columns": null,
            "grid_auto_flow": null,
            "grid_auto_rows": null,
            "grid_column": null,
            "grid_gap": null,
            "grid_row": null,
            "grid_template_areas": null,
            "grid_template_columns": null,
            "grid_template_rows": null,
            "height": null,
            "justify_content": null,
            "justify_items": null,
            "left": null,
            "margin": null,
            "max_height": null,
            "max_width": null,
            "min_height": null,
            "min_width": null,
            "object_fit": null,
            "object_position": null,
            "order": null,
            "overflow": null,
            "overflow_x": null,
            "overflow_y": null,
            "padding": null,
            "right": null,
            "top": null,
            "visibility": null,
            "width": null
          }
        },
        "7b8e31a24cbd4634beac92c82c0e5968": {
          "model_module": "@jupyter-widgets/controls",
          "model_module_version": "1.5.0",
          "model_name": "HBoxModel",
          "state": {
            "_dom_classes": [],
            "_model_module": "@jupyter-widgets/controls",
            "_model_module_version": "1.5.0",
            "_model_name": "HBoxModel",
            "_view_count": null,
            "_view_module": "@jupyter-widgets/controls",
            "_view_module_version": "1.5.0",
            "_view_name": "HBoxView",
            "box_style": "",
            "children": [
              "IPY_MODEL_43440246da584f269bd811f7d9bd1c7a",
              "IPY_MODEL_dcf565dfbb674a4e9e019b0be4990f41",
              "IPY_MODEL_452454e25da540c791812055046f81fb"
            ],
            "layout": "IPY_MODEL_2f6083b9531248969a9dc8fba58f59b4"
          }
        },
        "7c33fb850a32450eab9d80621466fff2": {
          "model_module": "@jupyter-widgets/controls",
          "model_module_version": "1.5.0",
          "model_name": "HTMLModel",
          "state": {
            "_dom_classes": [],
            "_model_module": "@jupyter-widgets/controls",
            "_model_module_version": "1.5.0",
            "_model_name": "HTMLModel",
            "_view_count": null,
            "_view_module": "@jupyter-widgets/controls",
            "_view_module_version": "1.5.0",
            "_view_name": "HTMLView",
            "description": "",
            "description_tooltip": null,
            "layout": "IPY_MODEL_2efc5c08d5da43ff89ed6e9fdc6d68cc",
            "placeholder": "​",
            "style": "IPY_MODEL_3bca5fd0d8b040c28d0fb88aeb48e80a",
            "value": " 1/1 [00:00&lt;00:00, 60.15it/s]"
          }
        },
        "8216037a14234b31afbd2c1620c23ec8": {
          "model_module": "@jupyter-widgets/controls",
          "model_module_version": "1.5.0",
          "model_name": "ProgressStyleModel",
          "state": {
            "_model_module": "@jupyter-widgets/controls",
            "_model_module_version": "1.5.0",
            "_model_name": "ProgressStyleModel",
            "_view_count": null,
            "_view_module": "@jupyter-widgets/base",
            "_view_module_version": "1.2.0",
            "_view_name": "StyleView",
            "bar_color": null,
            "description_width": ""
          }
        },
        "a1e5e2b592244198bdbe0f078240b497": {
          "model_module": "@jupyter-widgets/controls",
          "model_module_version": "1.5.0",
          "model_name": "DescriptionStyleModel",
          "state": {
            "_model_module": "@jupyter-widgets/controls",
            "_model_module_version": "1.5.0",
            "_model_name": "DescriptionStyleModel",
            "_view_count": null,
            "_view_module": "@jupyter-widgets/base",
            "_view_module_version": "1.2.0",
            "_view_name": "StyleView",
            "description_width": ""
          }
        },
        "a2a8064d76054489b09a059be2a529e6": {
          "model_module": "@jupyter-widgets/base",
          "model_module_version": "1.2.0",
          "model_name": "LayoutModel",
          "state": {
            "_model_module": "@jupyter-widgets/base",
            "_model_module_version": "1.2.0",
            "_model_name": "LayoutModel",
            "_view_count": null,
            "_view_module": "@jupyter-widgets/base",
            "_view_module_version": "1.2.0",
            "_view_name": "LayoutView",
            "align_content": null,
            "align_items": null,
            "align_self": null,
            "border": null,
            "bottom": null,
            "display": null,
            "flex": null,
            "flex_flow": null,
            "grid_area": null,
            "grid_auto_columns": null,
            "grid_auto_flow": null,
            "grid_auto_rows": null,
            "grid_column": null,
            "grid_gap": null,
            "grid_row": null,
            "grid_template_areas": null,
            "grid_template_columns": null,
            "grid_template_rows": null,
            "height": null,
            "justify_content": null,
            "justify_items": null,
            "left": null,
            "margin": null,
            "max_height": null,
            "max_width": null,
            "min_height": null,
            "min_width": null,
            "object_fit": null,
            "object_position": null,
            "order": null,
            "overflow": null,
            "overflow_x": null,
            "overflow_y": null,
            "padding": null,
            "right": null,
            "top": null,
            "visibility": null,
            "width": null
          }
        },
        "ad5a9b6dc88f46feb776badefa08be5b": {
          "model_module": "@jupyter-widgets/controls",
          "model_module_version": "1.5.0",
          "model_name": "DescriptionStyleModel",
          "state": {
            "_model_module": "@jupyter-widgets/controls",
            "_model_module_version": "1.5.0",
            "_model_name": "DescriptionStyleModel",
            "_view_count": null,
            "_view_module": "@jupyter-widgets/base",
            "_view_module_version": "1.2.0",
            "_view_name": "StyleView",
            "description_width": ""
          }
        },
        "aec0c3fd8a2f4b7d888f839c7854495d": {
          "model_module": "@jupyter-widgets/base",
          "model_module_version": "1.2.0",
          "model_name": "LayoutModel",
          "state": {
            "_model_module": "@jupyter-widgets/base",
            "_model_module_version": "1.2.0",
            "_model_name": "LayoutModel",
            "_view_count": null,
            "_view_module": "@jupyter-widgets/base",
            "_view_module_version": "1.2.0",
            "_view_name": "LayoutView",
            "align_content": null,
            "align_items": null,
            "align_self": null,
            "border": null,
            "bottom": null,
            "display": null,
            "flex": null,
            "flex_flow": null,
            "grid_area": null,
            "grid_auto_columns": null,
            "grid_auto_flow": null,
            "grid_auto_rows": null,
            "grid_column": null,
            "grid_gap": null,
            "grid_row": null,
            "grid_template_areas": null,
            "grid_template_columns": null,
            "grid_template_rows": null,
            "height": null,
            "justify_content": null,
            "justify_items": null,
            "left": null,
            "margin": null,
            "max_height": null,
            "max_width": null,
            "min_height": null,
            "min_width": null,
            "object_fit": null,
            "object_position": null,
            "order": null,
            "overflow": null,
            "overflow_x": null,
            "overflow_y": null,
            "padding": null,
            "right": null,
            "top": null,
            "visibility": null,
            "width": null
          }
        },
        "b376c253b9cc4bce8bb6c2f5cac5947e": {
          "model_module": "@jupyter-widgets/base",
          "model_module_version": "1.2.0",
          "model_name": "LayoutModel",
          "state": {
            "_model_module": "@jupyter-widgets/base",
            "_model_module_version": "1.2.0",
            "_model_name": "LayoutModel",
            "_view_count": null,
            "_view_module": "@jupyter-widgets/base",
            "_view_module_version": "1.2.0",
            "_view_name": "LayoutView",
            "align_content": null,
            "align_items": null,
            "align_self": null,
            "border": null,
            "bottom": null,
            "display": null,
            "flex": null,
            "flex_flow": null,
            "grid_area": null,
            "grid_auto_columns": null,
            "grid_auto_flow": null,
            "grid_auto_rows": null,
            "grid_column": null,
            "grid_gap": null,
            "grid_row": null,
            "grid_template_areas": null,
            "grid_template_columns": null,
            "grid_template_rows": null,
            "height": null,
            "justify_content": null,
            "justify_items": null,
            "left": null,
            "margin": null,
            "max_height": null,
            "max_width": null,
            "min_height": null,
            "min_width": null,
            "object_fit": null,
            "object_position": null,
            "order": null,
            "overflow": null,
            "overflow_x": null,
            "overflow_y": null,
            "padding": null,
            "right": null,
            "top": null,
            "visibility": null,
            "width": null
          }
        },
        "b694fc798c9145b887f66b7a21f67422": {
          "model_module": "@jupyter-widgets/controls",
          "model_module_version": "1.5.0",
          "model_name": "HBoxModel",
          "state": {
            "_dom_classes": [],
            "_model_module": "@jupyter-widgets/controls",
            "_model_module_version": "1.5.0",
            "_model_name": "HBoxModel",
            "_view_count": null,
            "_view_module": "@jupyter-widgets/controls",
            "_view_module_version": "1.5.0",
            "_view_name": "HBoxView",
            "box_style": "",
            "children": [
              "IPY_MODEL_c315ff0dc96148809a7496b2d93ed63d",
              "IPY_MODEL_14c3f58aa1434d868fbb31dcf161a40d",
              "IPY_MODEL_0550275dbe9b4733946c84b24b1db344"
            ],
            "layout": "IPY_MODEL_e07586920ce642c386e39f2aad831848"
          }
        },
        "b6b1d89d15934423b945cca00fd62af9": {
          "model_module": "@jupyter-widgets/base",
          "model_module_version": "1.2.0",
          "model_name": "LayoutModel",
          "state": {
            "_model_module": "@jupyter-widgets/base",
            "_model_module_version": "1.2.0",
            "_model_name": "LayoutModel",
            "_view_count": null,
            "_view_module": "@jupyter-widgets/base",
            "_view_module_version": "1.2.0",
            "_view_name": "LayoutView",
            "align_content": null,
            "align_items": null,
            "align_self": null,
            "border": null,
            "bottom": null,
            "display": null,
            "flex": null,
            "flex_flow": null,
            "grid_area": null,
            "grid_auto_columns": null,
            "grid_auto_flow": null,
            "grid_auto_rows": null,
            "grid_column": null,
            "grid_gap": null,
            "grid_row": null,
            "grid_template_areas": null,
            "grid_template_columns": null,
            "grid_template_rows": null,
            "height": null,
            "justify_content": null,
            "justify_items": null,
            "left": null,
            "margin": null,
            "max_height": null,
            "max_width": null,
            "min_height": null,
            "min_width": null,
            "object_fit": null,
            "object_position": null,
            "order": null,
            "overflow": null,
            "overflow_x": null,
            "overflow_y": null,
            "padding": null,
            "right": null,
            "top": null,
            "visibility": null,
            "width": null
          }
        },
        "c315ff0dc96148809a7496b2d93ed63d": {
          "model_module": "@jupyter-widgets/controls",
          "model_module_version": "1.5.0",
          "model_name": "HTMLModel",
          "state": {
            "_dom_classes": [],
            "_model_module": "@jupyter-widgets/controls",
            "_model_module_version": "1.5.0",
            "_model_name": "HTMLModel",
            "_view_count": null,
            "_view_module": "@jupyter-widgets/controls",
            "_view_module_version": "1.5.0",
            "_view_name": "HTMLView",
            "description": "",
            "description_tooltip": null,
            "layout": "IPY_MODEL_a2a8064d76054489b09a059be2a529e6",
            "placeholder": "​",
            "style": "IPY_MODEL_43b84c6bcd4848aaaf0a38d9d52b4815",
            "value": "Downloading data: 100%"
          }
        },
        "c393935ad7d441ef87e85e444adf72b7": {
          "model_module": "@jupyter-widgets/base",
          "model_module_version": "1.2.0",
          "model_name": "LayoutModel",
          "state": {
            "_model_module": "@jupyter-widgets/base",
            "_model_module_version": "1.2.0",
            "_model_name": "LayoutModel",
            "_view_count": null,
            "_view_module": "@jupyter-widgets/base",
            "_view_module_version": "1.2.0",
            "_view_name": "LayoutView",
            "align_content": null,
            "align_items": null,
            "align_self": null,
            "border": null,
            "bottom": null,
            "display": null,
            "flex": null,
            "flex_flow": null,
            "grid_area": null,
            "grid_auto_columns": null,
            "grid_auto_flow": null,
            "grid_auto_rows": null,
            "grid_column": null,
            "grid_gap": null,
            "grid_row": null,
            "grid_template_areas": null,
            "grid_template_columns": null,
            "grid_template_rows": null,
            "height": null,
            "justify_content": null,
            "justify_items": null,
            "left": null,
            "margin": null,
            "max_height": null,
            "max_width": null,
            "min_height": null,
            "min_width": null,
            "object_fit": null,
            "object_position": null,
            "order": null,
            "overflow": null,
            "overflow_x": null,
            "overflow_y": null,
            "padding": null,
            "right": null,
            "top": null,
            "visibility": null,
            "width": null
          }
        },
        "c90e676b46c24e448ebaf40738ace773": {
          "model_module": "@jupyter-widgets/base",
          "model_module_version": "1.2.0",
          "model_name": "LayoutModel",
          "state": {
            "_model_module": "@jupyter-widgets/base",
            "_model_module_version": "1.2.0",
            "_model_name": "LayoutModel",
            "_view_count": null,
            "_view_module": "@jupyter-widgets/base",
            "_view_module_version": "1.2.0",
            "_view_name": "LayoutView",
            "align_content": null,
            "align_items": null,
            "align_self": null,
            "border": null,
            "bottom": null,
            "display": null,
            "flex": null,
            "flex_flow": null,
            "grid_area": null,
            "grid_auto_columns": null,
            "grid_auto_flow": null,
            "grid_auto_rows": null,
            "grid_column": null,
            "grid_gap": null,
            "grid_row": null,
            "grid_template_areas": null,
            "grid_template_columns": null,
            "grid_template_rows": null,
            "height": null,
            "justify_content": null,
            "justify_items": null,
            "left": null,
            "margin": null,
            "max_height": null,
            "max_width": null,
            "min_height": null,
            "min_width": null,
            "object_fit": null,
            "object_position": null,
            "order": null,
            "overflow": null,
            "overflow_x": null,
            "overflow_y": null,
            "padding": null,
            "right": null,
            "top": null,
            "visibility": null,
            "width": "20px"
          }
        },
        "cc66ea70979f41758c928fea0fe2b83c": {
          "model_module": "@jupyter-widgets/controls",
          "model_module_version": "1.5.0",
          "model_name": "ProgressStyleModel",
          "state": {
            "_model_module": "@jupyter-widgets/controls",
            "_model_module_version": "1.5.0",
            "_model_name": "ProgressStyleModel",
            "_view_count": null,
            "_view_module": "@jupyter-widgets/base",
            "_view_module_version": "1.2.0",
            "_view_name": "StyleView",
            "bar_color": null,
            "description_width": ""
          }
        },
        "d5f13314af82460fa3223deef1e6c187": {
          "model_module": "@jupyter-widgets/controls",
          "model_module_version": "1.5.0",
          "model_name": "HTMLModel",
          "state": {
            "_dom_classes": [],
            "_model_module": "@jupyter-widgets/controls",
            "_model_module_version": "1.5.0",
            "_model_name": "HTMLModel",
            "_view_count": null,
            "_view_module": "@jupyter-widgets/controls",
            "_view_module_version": "1.5.0",
            "_view_name": "HTMLView",
            "description": "",
            "description_tooltip": null,
            "layout": "IPY_MODEL_01bb8ab8aa2748ce8d7a833530db8100",
            "placeholder": "​",
            "style": "IPY_MODEL_0064ef7844f54083898ad81ea8f4cc67",
            "value": "Downloading data files: 100%"
          }
        },
        "d7d04beefa884e7cbedb91570840780f": {
          "model_module": "@jupyter-widgets/controls",
          "model_module_version": "1.5.0",
          "model_name": "HTMLModel",
          "state": {
            "_dom_classes": [],
            "_model_module": "@jupyter-widgets/controls",
            "_model_module_version": "1.5.0",
            "_model_name": "HTMLModel",
            "_view_count": null,
            "_view_module": "@jupyter-widgets/controls",
            "_view_module_version": "1.5.0",
            "_view_name": "HTMLView",
            "description": "",
            "description_tooltip": null,
            "layout": "IPY_MODEL_308e14f6d0ef448686c0410ac028902b",
            "placeholder": "​",
            "style": "IPY_MODEL_a1e5e2b592244198bdbe0f078240b497",
            "value": "Downloading readme: 100%"
          }
        },
        "da66856444e447e6ac92c183df2bc212": {
          "model_module": "@jupyter-widgets/base",
          "model_module_version": "1.2.0",
          "model_name": "LayoutModel",
          "state": {
            "_model_module": "@jupyter-widgets/base",
            "_model_module_version": "1.2.0",
            "_model_name": "LayoutModel",
            "_view_count": null,
            "_view_module": "@jupyter-widgets/base",
            "_view_module_version": "1.2.0",
            "_view_name": "LayoutView",
            "align_content": null,
            "align_items": null,
            "align_self": null,
            "border": null,
            "bottom": null,
            "display": null,
            "flex": null,
            "flex_flow": null,
            "grid_area": null,
            "grid_auto_columns": null,
            "grid_auto_flow": null,
            "grid_auto_rows": null,
            "grid_column": null,
            "grid_gap": null,
            "grid_row": null,
            "grid_template_areas": null,
            "grid_template_columns": null,
            "grid_template_rows": null,
            "height": null,
            "justify_content": null,
            "justify_items": null,
            "left": null,
            "margin": null,
            "max_height": null,
            "max_width": null,
            "min_height": null,
            "min_width": null,
            "object_fit": null,
            "object_position": null,
            "order": null,
            "overflow": null,
            "overflow_x": null,
            "overflow_y": null,
            "padding": null,
            "right": null,
            "top": null,
            "visibility": null,
            "width": null
          }
        },
        "dcf565dfbb674a4e9e019b0be4990f41": {
          "model_module": "@jupyter-widgets/controls",
          "model_module_version": "1.5.0",
          "model_name": "FloatProgressModel",
          "state": {
            "_dom_classes": [],
            "_model_module": "@jupyter-widgets/controls",
            "_model_module_version": "1.5.0",
            "_model_name": "FloatProgressModel",
            "_view_count": null,
            "_view_module": "@jupyter-widgets/controls",
            "_view_module_version": "1.5.0",
            "_view_name": "ProgressView",
            "bar_style": "success",
            "description": "",
            "description_tooltip": null,
            "layout": "IPY_MODEL_c90e676b46c24e448ebaf40738ace773",
            "max": 1,
            "min": 0,
            "orientation": "horizontal",
            "style": "IPY_MODEL_423c2226d34149129bac6b0201532131",
            "value": 1
          }
        },
        "df1fbd09ea104ecab2f8d81b743f4db1": {
          "model_module": "@jupyter-widgets/controls",
          "model_module_version": "1.5.0",
          "model_name": "DescriptionStyleModel",
          "state": {
            "_model_module": "@jupyter-widgets/controls",
            "_model_module_version": "1.5.0",
            "_model_name": "DescriptionStyleModel",
            "_view_count": null,
            "_view_module": "@jupyter-widgets/base",
            "_view_module_version": "1.2.0",
            "_view_name": "StyleView",
            "description_width": ""
          }
        },
        "e07586920ce642c386e39f2aad831848": {
          "model_module": "@jupyter-widgets/base",
          "model_module_version": "1.2.0",
          "model_name": "LayoutModel",
          "state": {
            "_model_module": "@jupyter-widgets/base",
            "_model_module_version": "1.2.0",
            "_model_name": "LayoutModel",
            "_view_count": null,
            "_view_module": "@jupyter-widgets/base",
            "_view_module_version": "1.2.0",
            "_view_name": "LayoutView",
            "align_content": null,
            "align_items": null,
            "align_self": null,
            "border": null,
            "bottom": null,
            "display": null,
            "flex": null,
            "flex_flow": null,
            "grid_area": null,
            "grid_auto_columns": null,
            "grid_auto_flow": null,
            "grid_auto_rows": null,
            "grid_column": null,
            "grid_gap": null,
            "grid_row": null,
            "grid_template_areas": null,
            "grid_template_columns": null,
            "grid_template_rows": null,
            "height": null,
            "justify_content": null,
            "justify_items": null,
            "left": null,
            "margin": null,
            "max_height": null,
            "max_width": null,
            "min_height": null,
            "min_width": null,
            "object_fit": null,
            "object_position": null,
            "order": null,
            "overflow": null,
            "overflow_x": null,
            "overflow_y": null,
            "padding": null,
            "right": null,
            "top": null,
            "visibility": null,
            "width": null
          }
        },
        "e0b67a986f284f3ba1fd0ef851a89379": {
          "model_module": "@jupyter-widgets/controls",
          "model_module_version": "1.5.0",
          "model_name": "HBoxModel",
          "state": {
            "_dom_classes": [],
            "_model_module": "@jupyter-widgets/controls",
            "_model_module_version": "1.5.0",
            "_model_name": "HBoxModel",
            "_view_count": null,
            "_view_module": "@jupyter-widgets/controls",
            "_view_module_version": "1.5.0",
            "_view_name": "HBoxView",
            "box_style": "",
            "children": [
              "IPY_MODEL_d7d04beefa884e7cbedb91570840780f",
              "IPY_MODEL_e564e2d4daa2473792922357ee31e396",
              "IPY_MODEL_29e323d704b945b895eb2855fc107845"
            ],
            "layout": "IPY_MODEL_b6b1d89d15934423b945cca00fd62af9"
          }
        },
        "e0c3f38480be4dc1a394d12a5c711999": {
          "model_module": "@jupyter-widgets/controls",
          "model_module_version": "1.5.0",
          "model_name": "HBoxModel",
          "state": {
            "_dom_classes": [],
            "_model_module": "@jupyter-widgets/controls",
            "_model_module_version": "1.5.0",
            "_model_name": "HBoxModel",
            "_view_count": null,
            "_view_module": "@jupyter-widgets/controls",
            "_view_module_version": "1.5.0",
            "_view_name": "HBoxView",
            "box_style": "",
            "children": [
              "IPY_MODEL_d5f13314af82460fa3223deef1e6c187",
              "IPY_MODEL_54fc47942ffe454d894ffc8637a3e82f",
              "IPY_MODEL_22f28c3b1b21418e9e999225f70f35ce"
            ],
            "layout": "IPY_MODEL_3226224b6a874315be75acdcef31006f"
          }
        },
        "e564e2d4daa2473792922357ee31e396": {
          "model_module": "@jupyter-widgets/controls",
          "model_module_version": "1.5.0",
          "model_name": "FloatProgressModel",
          "state": {
            "_dom_classes": [],
            "_model_module": "@jupyter-widgets/controls",
            "_model_module_version": "1.5.0",
            "_model_name": "FloatProgressModel",
            "_view_count": null,
            "_view_module": "@jupyter-widgets/controls",
            "_view_module_version": "1.5.0",
            "_view_name": "ProgressView",
            "bar_style": "success",
            "description": "",
            "description_tooltip": null,
            "layout": "IPY_MODEL_c393935ad7d441ef87e85e444adf72b7",
            "max": 8369,
            "min": 0,
            "orientation": "horizontal",
            "style": "IPY_MODEL_cc66ea70979f41758c928fea0fe2b83c",
            "value": 8369
          }
        },
        "f04a26e709a14d3cbd323535eefbd7c3": {
          "model_module": "@jupyter-widgets/controls",
          "model_module_version": "1.5.0",
          "model_name": "HTMLModel",
          "state": {
            "_dom_classes": [],
            "_model_module": "@jupyter-widgets/controls",
            "_model_module_version": "1.5.0",
            "_model_name": "HTMLModel",
            "_view_count": null,
            "_view_module": "@jupyter-widgets/controls",
            "_view_module_version": "1.5.0",
            "_view_name": "HTMLView",
            "description": "",
            "description_tooltip": null,
            "layout": "IPY_MODEL_77d6bbdb626544daa33969f9ab55691f",
            "placeholder": "​",
            "style": "IPY_MODEL_4c3c0756dd4f45d590b6a639819cfc58",
            "value": "Extracting data files: 100%"
          }
        },
        "f1f89c254c8245c1b961b0440faf4484": {
          "model_module": "@jupyter-widgets/controls",
          "model_module_version": "1.5.0",
          "model_name": "FloatProgressModel",
          "state": {
            "_dom_classes": [],
            "_model_module": "@jupyter-widgets/controls",
            "_model_module_version": "1.5.0",
            "_model_name": "FloatProgressModel",
            "_view_count": null,
            "_view_module": "@jupyter-widgets/controls",
            "_view_module_version": "1.5.0",
            "_view_name": "ProgressView",
            "bar_style": "success",
            "description": "",
            "description_tooltip": null,
            "layout": "IPY_MODEL_48ca19e09343421d98cce3f8dacfbb8f",
            "max": 1,
            "min": 0,
            "orientation": "horizontal",
            "style": "IPY_MODEL_8216037a14234b31afbd2c1620c23ec8",
            "value": 1
          }
        },
        "f790803131d941718572153c941038d6": {
          "model_module": "@jupyter-widgets/controls",
          "model_module_version": "1.5.0",
          "model_name": "HBoxModel",
          "state": {
            "_dom_classes": [],
            "_model_module": "@jupyter-widgets/controls",
            "_model_module_version": "1.5.0",
            "_model_name": "HBoxModel",
            "_view_count": null,
            "_view_module": "@jupyter-widgets/controls",
            "_view_module_version": "1.5.0",
            "_view_name": "HBoxView",
            "box_style": "",
            "children": [
              "IPY_MODEL_f04a26e709a14d3cbd323535eefbd7c3",
              "IPY_MODEL_f1f89c254c8245c1b961b0440faf4484",
              "IPY_MODEL_7c33fb850a32450eab9d80621466fff2"
            ],
            "layout": "IPY_MODEL_76bf0db5634341fd8ad4c8a38a34665c"
          }
        },
        "f93d51599c654fa89a96f2b1334f64e2": {
          "model_module": "@jupyter-widgets/controls",
          "model_module_version": "1.5.0",
          "model_name": "DescriptionStyleModel",
          "state": {
            "_model_module": "@jupyter-widgets/controls",
            "_model_module_version": "1.5.0",
            "_model_name": "DescriptionStyleModel",
            "_view_count": null,
            "_view_module": "@jupyter-widgets/base",
            "_view_module_version": "1.2.0",
            "_view_name": "StyleView",
            "description_width": ""
          }
        },
        "fdc7663d4f814d7f9632316f916c0131": {
          "model_module": "@jupyter-widgets/base",
          "model_module_version": "1.2.0",
          "model_name": "LayoutModel",
          "state": {
            "_model_module": "@jupyter-widgets/base",
            "_model_module_version": "1.2.0",
            "_model_name": "LayoutModel",
            "_view_count": null,
            "_view_module": "@jupyter-widgets/base",
            "_view_module_version": "1.2.0",
            "_view_name": "LayoutView",
            "align_content": null,
            "align_items": null,
            "align_self": null,
            "border": null,
            "bottom": null,
            "display": null,
            "flex": null,
            "flex_flow": null,
            "grid_area": null,
            "grid_auto_columns": null,
            "grid_auto_flow": null,
            "grid_auto_rows": null,
            "grid_column": null,
            "grid_gap": null,
            "grid_row": null,
            "grid_template_areas": null,
            "grid_template_columns": null,
            "grid_template_rows": null,
            "height": null,
            "justify_content": null,
            "justify_items": null,
            "left": null,
            "margin": null,
            "max_height": null,
            "max_width": null,
            "min_height": null,
            "min_width": null,
            "object_fit": null,
            "object_position": null,
            "order": null,
            "overflow": null,
            "overflow_x": null,
            "overflow_y": null,
            "padding": null,
            "right": null,
            "top": null,
            "visibility": null,
            "width": null
          }
        }
      }
    }
  },
  "nbformat": 4,
  "nbformat_minor": 0
}